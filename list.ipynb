{
 "cells": [
  {
   "cell_type": "markdown",
   "metadata": {},
   "source": [
    "# list\n",
    "# value access\n",
    "# concatination\n",
    "# operator\n",
    "# duplicate member\n",
    "# append\n",
    "# min max sum aveg\n",
    "# sort\n",
    "# remove delete pop\n",
    "# index insert\n",
    "# clear\n",
    "# list inside list\n",
    "# normal info, Student info\n",
    "# matrix "
   ]
  },
  {
   "cell_type": "code",
   "execution_count": 1,
   "metadata": {
    "collapsed": false
   },
   "outputs": [
    {
     "data": {
      "text/plain": [
       "['A', 'p', 'p', 'l', 'e']"
      ]
     },
     "execution_count": 1,
     "metadata": {},
     "output_type": "execute_result"
    }
   ],
   "source": [
    "a = list('Apple')\n",
    "a"
   ]
  },
  {
   "cell_type": "code",
   "execution_count": 2,
   "metadata": {
    "collapsed": false
   },
   "outputs": [
    {
     "data": {
      "text/plain": [
       "[1, 2, 3, 4]"
      ]
     },
     "execution_count": 2,
     "metadata": {},
     "output_type": "execute_result"
    }
   ],
   "source": [
    "lists = [1,2,3,4]\n",
    "lists"
   ]
  },
  {
   "cell_type": "code",
   "execution_count": 3,
   "metadata": {
    "collapsed": false
   },
   "outputs": [
    {
     "data": {
      "text/plain": [
       "['Apple', 'Ball', 'Cat']"
      ]
     },
     "execution_count": 3,
     "metadata": {},
     "output_type": "execute_result"
    }
   ],
   "source": [
    "a = ['Apple','Ball','Cat']\n",
    "a"
   ]
  },
  {
   "cell_type": "code",
   "execution_count": 6,
   "metadata": {
    "collapsed": false
   },
   "outputs": [
    {
     "data": {
      "text/plain": [
       "'Cat'"
      ]
     },
     "execution_count": 6,
     "metadata": {},
     "output_type": "execute_result"
    }
   ],
   "source": [
    "a[-1]"
   ]
  },
  {
   "cell_type": "code",
   "execution_count": 9,
   "metadata": {
    "collapsed": false
   },
   "outputs": [
    {
     "name": "stdout",
     "output_type": "stream",
     "text": [
      "[1, 2, 3, 4, 5]\n",
      "[1, 3, 5, 7, 9]\n"
     ]
    }
   ],
   "source": [
    "a = [1,2,3,4,5,6,7,8,9,10]\n",
    "print(a[0:5])\n",
    "print(a[0:9:2])"
   ]
  },
  {
   "cell_type": "code",
   "execution_count": 10,
   "metadata": {
    "collapsed": false
   },
   "outputs": [
    {
     "name": "stdout",
     "output_type": "stream",
     "text": [
      "Apple\n",
      "Ball\n",
      "Cat\n"
     ]
    }
   ],
   "source": [
    "a = ['Apple','Ball','Cat']\n",
    "for i in a:\n",
    "    print(i)"
   ]
  },
  {
   "cell_type": "code",
   "execution_count": 11,
   "metadata": {
    "collapsed": false
   },
   "outputs": [
    {
     "data": {
      "text/plain": [
       "[1, 2, 3, 4, 5, 6, 7, 8, 9]"
      ]
     },
     "execution_count": 11,
     "metadata": {},
     "output_type": "execute_result"
    }
   ],
   "source": [
    "a = [1,2,3,4,5]\n",
    "b = [6,7,8,9]\n",
    "a+b"
   ]
  },
  {
   "cell_type": "code",
   "execution_count": 12,
   "metadata": {
    "collapsed": false
   },
   "outputs": [
    {
     "data": {
      "text/plain": [
       "[1, 2, 3, 4, 5, 1, 2, 3, 4, 5]"
      ]
     },
     "execution_count": 12,
     "metadata": {},
     "output_type": "execute_result"
    }
   ],
   "source": [
    "a = [1,2,3,4,5]\n",
    "a*2"
   ]
  },
  {
   "cell_type": "code",
   "execution_count": 13,
   "metadata": {
    "collapsed": false
   },
   "outputs": [
    {
     "data": {
      "text/plain": [
       "[1, 2, 3, 4, 5, 6]"
      ]
     },
     "execution_count": 13,
     "metadata": {},
     "output_type": "execute_result"
    }
   ],
   "source": [
    "a = [1,2,3,4,5]\n",
    "b = [6]\n",
    "a+b"
   ]
  },
  {
   "cell_type": "code",
   "execution_count": 18,
   "metadata": {
    "collapsed": false
   },
   "outputs": [
    {
     "data": {
      "text/plain": [
       "3"
      ]
     },
     "execution_count": 18,
     "metadata": {},
     "output_type": "execute_result"
    }
   ],
   "source": [
    "a = ['Apple','Ball','Apple']\n",
    "len(a)"
   ]
  },
  {
   "cell_type": "code",
   "execution_count": 19,
   "metadata": {
    "collapsed": false
   },
   "outputs": [
    {
     "name": "stdout",
     "output_type": "stream",
     "text": [
      "Enter any value for loop = 2\n",
      "Enter the value = 5\n",
      "Enter the value = 6\n",
      "The list is =  [5, 6]\n"
     ]
    }
   ],
   "source": [
    "t = []\n",
    "n = int(input(\"Enter any value for loop = \"))\n",
    "for i in range(n):\n",
    "    x = int(input(\"Enter the value = \"))\n",
    "    t = t+[x]\n",
    "print(\"The list is = \",t)"
   ]
  },
  {
   "cell_type": "code",
   "execution_count": null,
   "metadata": {
    "collapsed": true
   },
   "outputs": [],
   "source": [
    "a.append('Apple')"
   ]
  },
  {
   "cell_type": "code",
   "execution_count": 21,
   "metadata": {
    "collapsed": false
   },
   "outputs": [
    {
     "name": "stdout",
     "output_type": "stream",
     "text": [
      "Enter any value for loop = 2\n",
      "Enter the value = 1\n",
      "Enter the value = 2\n",
      "The list is =  [1, 2]\n"
     ]
    }
   ],
   "source": [
    "t = []\n",
    "n = int(input(\"Enter any value for loop = \"))\n",
    "for i in range(n):\n",
    "    x = int(input(\"Enter the value = \"))\n",
    "    t.append(x)\n",
    "print(\"The list is = \",t)"
   ]
  },
  {
   "cell_type": "code",
   "execution_count": 22,
   "metadata": {
    "collapsed": false
   },
   "outputs": [
    {
     "name": "stdout",
     "output_type": "stream",
     "text": [
      "Enter any value for loop = 10\n",
      "Enter the value = 3\n",
      "Enter the value = 4\n",
      "Enter the value = 3\n",
      "Enter the value = 4\n",
      "Enter the value = 5\n",
      "Enter the value = 3\n",
      "Enter the value = 4\n",
      "Enter the value = 5\n",
      "Enter the value = 2\n",
      "Enter the value = 4\n",
      "The max value is =  5\n",
      "The min value is =  2\n",
      "The sum value is =  37\n",
      "The average value is =  3.7\n"
     ]
    }
   ],
   "source": [
    "t = []\n",
    "n = int(input(\"Enter any value for loop = \"))\n",
    "for i in range(n):\n",
    "    x = int(input(\"Enter the value = \"))\n",
    "    t.append(x)\n",
    "    \n",
    "print(\"The max value is = \",max(t))\n",
    "print(\"The min value is = \",min(t))\n",
    "print(\"The sum value is = \",sum(t))\n",
    "print(\"The average value is = \",sum(t)/n)"
   ]
  },
  {
   "cell_type": "code",
   "execution_count": 28,
   "metadata": {
    "collapsed": false
   },
   "outputs": [
    {
     "name": "stdout",
     "output_type": "stream",
     "text": [
      "Enter any value for loop = 5\n",
      "Enter the value = Aplle\n",
      "Enter the value = ZEBRA\n",
      "Enter the value = .xray\n",
      "Enter the value = 1ball\n",
      "Enter the value = @Apple\n"
     ]
    },
    {
     "data": {
      "text/plain": [
       "['.xray', '1ball', '@Apple', 'Aplle', 'ZEBRA']"
      ]
     },
     "execution_count": 28,
     "metadata": {},
     "output_type": "execute_result"
    }
   ],
   "source": [
    "t = []\n",
    "n = int(input(\"Enter any value for loop = \"))\n",
    "for i in range(n):\n",
    "    x = input(\"Enter the value = \")\n",
    "    t.append(x)\n",
    "    \n",
    "t.sort()\n",
    "t"
   ]
  },
  {
   "cell_type": "code",
   "execution_count": 2,
   "metadata": {
    "collapsed": false
   },
   "outputs": [
    {
     "name": "stdout",
     "output_type": "stream",
     "text": [
      "Enter any value for loop = 5\n",
      "Enter the value = 123\n",
      "Enter the value = 45\n",
      "Enter the value = 123\n",
      "Enter the value = 65\n",
      "Enter the value = 234\n"
     ]
    },
    {
     "data": {
      "text/plain": [
       "[234, 123, 123, 65, 45]"
      ]
     },
     "execution_count": 2,
     "metadata": {},
     "output_type": "execute_result"
    }
   ],
   "source": [
    "t = []\n",
    "n = int(input(\"Enter any value for loop = \"))\n",
    "for i in range(n):\n",
    "    x = int(input(\"Enter the value = \"))\n",
    "    t.append(x)\n",
    "    \n",
    "t.sort()\n",
    "t.reverse()\n",
    "t"
   ]
  },
  {
   "cell_type": "code",
   "execution_count": 11,
   "metadata": {
    "collapsed": false
   },
   "outputs": [
    {
     "name": "stdout",
     "output_type": "stream",
     "text": [
      "45\n",
      "65\n",
      "123\n",
      "123\n",
      "234\n"
     ]
    }
   ],
   "source": [
    "x = [234, 123, 123, 65, 45]\n",
    "\n",
    "for i in range(len(x)-1,-1,-1):\n",
    "    print(x[i])\n",
    "    "
   ]
  },
  {
   "cell_type": "code",
   "execution_count": 13,
   "metadata": {
    "collapsed": false
   },
   "outputs": [
    {
     "name": "stdout",
     "output_type": "stream",
     "text": [
      "Yes 2\n"
     ]
    }
   ],
   "source": [
    "a = ['Apple','Ball','Cat','Dog','Fish','Apple']\n",
    "if 'Apple' in a:\n",
    "    print(\"Yes\",a.count('Apple'))\n",
    "else:\n",
    "    print(\"No\")\n"
   ]
  },
  {
   "cell_type": "code",
   "execution_count": 19,
   "metadata": {
    "collapsed": false
   },
   "outputs": [
    {
     "data": {
      "text/plain": [
       "['Ball', 'Cat', 'Dog', 'Fish', 'Apple', 'Apple']"
      ]
     },
     "execution_count": 19,
     "metadata": {},
     "output_type": "execute_result"
    }
   ],
   "source": [
    "a = ['Apple','Ball','Cat','Dog','Fish','Apple','Apple']\n",
    "a.remove('Apple')\n",
    "a"
   ]
  },
  {
   "cell_type": "code",
   "execution_count": 21,
   "metadata": {
    "collapsed": false
   },
   "outputs": [
    {
     "name": "stdout",
     "output_type": "stream",
     "text": [
      "['Ball', 'Cat', 'Dog', 'Fish', 'Apple']\n"
     ]
    }
   ],
   "source": [
    "a = ['Apple','Ball','Cat','Dog','Fish','Apple','Apple']\n",
    "count  = a.count('Apple')-1\n",
    "for i in range(count):\n",
    "    a.remove('Apple')\n",
    "print(a)"
   ]
  },
  {
   "cell_type": "code",
   "execution_count": null,
   "metadata": {
    "collapsed": true
   },
   "outputs": [],
   "source": [
    "a = ['Apple','Ball','Cat','Dog','Fish','Apple','Apple']\n",
    "x = input(\"Enter any value for remove = \")\n",
    "count  = a.count(x)-1\n",
    "for i in range(count):\n",
    "    a.remove(x)\n",
    "print(a)"
   ]
  },
  {
   "cell_type": "code",
   "execution_count": 32,
   "metadata": {
    "collapsed": false
   },
   "outputs": [
    {
     "data": {
      "text/plain": [
       "['Cat', 'Fish']"
      ]
     },
     "execution_count": 32,
     "metadata": {},
     "output_type": "execute_result"
    }
   ],
   "source": [
    "a = ['Ball', 'Cat', 'Dog', 'Fish', 'Apple']\n",
    "del a[0:5:2]\n",
    "a"
   ]
  },
  {
   "cell_type": "code",
   "execution_count": 35,
   "metadata": {
    "collapsed": false
   },
   "outputs": [
    {
     "name": "stdout",
     "output_type": "stream",
     "text": [
      "Ball\n",
      "['Cat', 'Dog', 'Fish', 'Apple']\n"
     ]
    }
   ],
   "source": [
    "a = ['Ball', 'Cat', 'Dog', 'Fish', 'Apple']\n",
    "print(a.pop(0))\n",
    "print(a)\n"
   ]
  },
  {
   "cell_type": "code",
   "execution_count": 38,
   "metadata": {
    "collapsed": false
   },
   "outputs": [
    {
     "name": "stdout",
     "output_type": "stream",
     "text": [
      "AppleCat\n",
      "Apple\n",
      "['Ball', 'Dog', 'Fish']\n"
     ]
    }
   ],
   "source": [
    "a = ['Ball', 'Cat', 'Dog', 'Fish', 'Apple']\n",
    "x = a.pop()\n",
    "y = a.pop(1)\n",
    "print(x+y)\n",
    "print(x)\n",
    "print(a)"
   ]
  },
  {
   "cell_type": "code",
   "execution_count": null,
   "metadata": {
    "collapsed": true
   },
   "outputs": [],
   "source": [
    "# index()\n",
    "# insert()"
   ]
  },
  {
   "cell_type": "code",
   "execution_count": 46,
   "metadata": {
    "collapsed": false
   },
   "outputs": [
    {
     "name": "stdout",
     "output_type": "stream",
     "text": [
      "0\n",
      "2\n"
     ]
    }
   ],
   "source": [
    "x = ['Ball', 'Dog', 'Fish','Ball']\n",
    "for i in range(2):\n",
    "    if 'Ball' in x:\n",
    "        print(x.index('Ball'))\n",
    "        x.remove('Ball')\n",
    "    "
   ]
  },
  {
   "cell_type": "code",
   "execution_count": 47,
   "metadata": {
    "collapsed": false
   },
   "outputs": [
    {
     "data": {
      "text/plain": [
       "['Ball', 'Apple', 'Dog', 'Fish', 'Ball']"
      ]
     },
     "execution_count": 47,
     "metadata": {},
     "output_type": "execute_result"
    }
   ],
   "source": [
    "x = ['Ball', 'Dog', 'Fish','Ball']\n",
    "x.insert(1,'Apple')\n",
    "x"
   ]
  },
  {
   "cell_type": "code",
   "execution_count": null,
   "metadata": {
    "collapsed": true
   },
   "outputs": [],
   "source": []
  }
 ],
 "metadata": {
  "kernelspec": {
   "display_name": "Python 3",
   "language": "python",
   "name": "python3"
  },
  "language_info": {
   "codemirror_mode": {
    "name": "ipython",
    "version": 3
   },
   "file_extension": ".py",
   "mimetype": "text/x-python",
   "name": "python",
   "nbconvert_exporter": "python",
   "pygments_lexer": "ipython3",
   "version": "3.6.0"
  }
 },
 "nbformat": 4,
 "nbformat_minor": 2
}
