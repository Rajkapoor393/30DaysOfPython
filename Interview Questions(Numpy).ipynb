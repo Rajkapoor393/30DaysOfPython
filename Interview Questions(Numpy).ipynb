{
 "cells": [
  {
   "cell_type": "markdown",
   "metadata": {},
   "source": [
    "Numpy"
   ]
  },
  {
   "cell_type": "markdown",
   "metadata": {},
   "source": [
    "1. **Why is python numpy better than list?**\n",
    "\n",
    "Python numpy arrays should be considered instead of a list because they are falst, consume less memory and convenient with lots of functionality."
   ]
  },
  {
   "cell_type": "markdown",
   "metadata": {},
   "source": [
    "2. **Describe the map function in Python?**\n",
    "\n",
    "map function executes the function given as the first argument on all elements of the iterable given as the second argument."
   ]
  },
  {
   "cell_type": "markdown",
   "metadata": {},
   "source": [
    "3. **Generate array of '100' random numbers sampled from a standard normal distribution using numpy**\n",
    "\n",
    "np.random.rand(100) will create 100 random numbers generated from standard normal distribution with mean 0 and standard deviation 1."
   ]
  },
  {
   "cell_type": "markdown",
   "metadata": {},
   "source": [
    "4 **How to count the occurance of each value in a numpy array?**\n",
    "\n",
    "Use numpy.bincount()\n"
   ]
  },
  {
   "cell_type": "code",
   "execution_count": 7,
   "metadata": {},
   "outputs": [
    {
     "data": {
      "text/plain": [
       "array([1, 1, 1, 1, 1, 3, 4, 2, 1, 3], dtype=int64)"
      ]
     },
     "execution_count": 7,
     "metadata": {},
     "output_type": "execute_result"
    }
   ],
   "source": [
    "import numpy\n",
    "arr = numpy.array([0,1,2,3,4,5,6,7,8,9,9,9,5,5,6,6,6,7])\n",
    "numpy.bincount(arr)"
   ]
  },
  {
   "cell_type": "markdown",
   "metadata": {},
   "source": [
    "The argument to bincount() must consist of booleans or positive integers.\n",
    "**Negative integers are invlid**"
   ]
  },
  {
   "cell_type": "markdown",
   "metadata": {},
   "source": [
    "5. **Does Numpy Support Nan?**\n",
    "\n",
    "nan, short for \"not a number\", is a special floating point value defined by the IEEE-754 specification. Python numpy supports nan but the definition of nan is more system dependent and some systems don't have an all round support for it like older cray and vax computers."
   ]
  },
  {
   "cell_type": "markdown",
   "metadata": {},
   "source": [
    "6. **What does ravel() function in numpy do?**\n",
    "\n",
    "It combines multiple numpy arrays into a single array"
   ]
  },
  {
   "cell_type": "markdown",
   "metadata": {},
   "source": [
    "7.**What is the meaning of axis=0 and axis=1 ?**\n",
    "\n",
    "Axis=0 is meant for reading rows\n",
    "\n",
    "Axis=1 is meant for reading columns"
   ]
  },
  {
   "cell_type": "code",
   "execution_count": null,
   "metadata": {},
   "outputs": [],
   "source": []
  }
 ],
 "metadata": {
  "kernelspec": {
   "display_name": "Python 3",
   "language": "python",
   "name": "python3"
  },
  "language_info": {
   "codemirror_mode": {
    "name": "ipython",
    "version": 3
   },
   "file_extension": ".py",
   "mimetype": "text/x-python",
   "name": "python",
   "nbconvert_exporter": "python",
   "pygments_lexer": "ipython3",
   "version": "3.7.4"
  }
 },
 "nbformat": 4,
 "nbformat_minor": 2
}
