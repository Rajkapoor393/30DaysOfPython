{
 "cells": [
  {
   "cell_type": "markdown",
   "metadata": {},
   "source": [
    "# Dictionary is unordered, changeable and indexed. No duplicate Index"
   ]
  },
  {
   "cell_type": "markdown",
   "metadata": {},
   "source": [
    "# Type"
   ]
  },
  {
   "cell_type": "code",
   "execution_count": 1,
   "metadata": {
    "collapsed": false
   },
   "outputs": [
    {
     "data": {
      "text/plain": [
       "dict"
      ]
     },
     "execution_count": 1,
     "metadata": {},
     "output_type": "execute_result"
    }
   ],
   "source": [
    "a = {}\n",
    "type(a)"
   ]
  },
  {
   "cell_type": "code",
   "execution_count": null,
   "metadata": {
    "collapsed": true
   },
   "outputs": [],
   "source": [
    "# a = {<index>:<value>,<index>:<value>}"
   ]
  },
  {
   "cell_type": "code",
   "execution_count": 4,
   "metadata": {
    "collapsed": false
   },
   "outputs": [
    {
     "data": {
      "text/plain": [
       "'Ball'"
      ]
     },
     "execution_count": 4,
     "metadata": {},
     "output_type": "execute_result"
    }
   ],
   "source": [
    "a = {1:'Apple',2:'Ball',3:'Cat'}\n",
    "a[2]"
   ]
  },
  {
   "cell_type": "code",
   "execution_count": 6,
   "metadata": {
    "collapsed": false
   },
   "outputs": [
    {
     "data": {
      "text/plain": [
       "'Apple'"
      ]
     },
     "execution_count": 6,
     "metadata": {},
     "output_type": "execute_result"
    }
   ],
   "source": [
    "a = {'a':'Apple','b':'Ball','c':'Cat'}\n",
    "a['a']"
   ]
  },
  {
   "cell_type": "code",
   "execution_count": 8,
   "metadata": {
    "collapsed": false
   },
   "outputs": [
    {
     "data": {
      "text/plain": [
       "{'a': 'Apple', 'b': 'Ball', 'c': 'Cat'}"
      ]
     },
     "execution_count": 8,
     "metadata": {},
     "output_type": "execute_result"
    }
   ],
   "source": [
    "a = {}\n",
    "a['a'] = 'Apple'\n",
    "a['b'] = 'Ball'\n",
    "a['c'] = 'Cat'\n",
    "a"
   ]
  },
  {
   "cell_type": "code",
   "execution_count": 14,
   "metadata": {
    "collapsed": false
   },
   "outputs": [
    {
     "data": {
      "text/plain": [
       "'Apple'"
      ]
     },
     "execution_count": 14,
     "metadata": {},
     "output_type": "execute_result"
    }
   ],
   "source": [
    "a = {'a': 'Apple', 'b': 'Ball', 'c': 'Cat','aa':\"Apple\"}\n",
    "\n",
    "a['a']"
   ]
  },
  {
   "cell_type": "markdown",
   "metadata": {},
   "source": [
    "# Loop"
   ]
  },
  {
   "cell_type": "code",
   "execution_count": 15,
   "metadata": {
    "collapsed": false
   },
   "outputs": [
    {
     "name": "stdout",
     "output_type": "stream",
     "text": [
      "a\n",
      "b\n",
      "c\n",
      "aa\n"
     ]
    }
   ],
   "source": [
    "a = {'a': 'Apple', 'b': 'Ball', 'c': 'Cat','aa':\"Apple\"}\n",
    "for i in a:\n",
    "    print(i)"
   ]
  },
  {
   "cell_type": "code",
   "execution_count": 17,
   "metadata": {
    "collapsed": false
   },
   "outputs": [
    {
     "name": "stdout",
     "output_type": "stream",
     "text": [
      "Apple\n",
      "Ball\n",
      "Cat\n",
      "Apple\n"
     ]
    }
   ],
   "source": [
    "a = {'a': 'Apple', 'b': 'Ball', 'c': 'Cat','aa':\"Apple\"}\n",
    "for i in a.values():\n",
    "    print(i)"
   ]
  },
  {
   "cell_type": "code",
   "execution_count": 19,
   "metadata": {
    "collapsed": false
   },
   "outputs": [
    {
     "name": "stdout",
     "output_type": "stream",
     "text": [
      "('a', 'Apple')\n",
      "('b', 'Ball')\n",
      "('c', 'Cat')\n",
      "('aa', 'Apple')\n"
     ]
    }
   ],
   "source": [
    "a = {'a': 'Apple', 'b': 'Ball', 'c': 'Cat','aa':\"Apple\"}\n",
    "for i in a.items():\n",
    "    print(i)"
   ]
  },
  {
   "cell_type": "markdown",
   "metadata": {},
   "source": [
    "# pop"
   ]
  },
  {
   "cell_type": "code",
   "execution_count": 24,
   "metadata": {
    "collapsed": false
   },
   "outputs": [
    {
     "name": "stdout",
     "output_type": "stream",
     "text": [
      "{'b': 'Ball', 'c': 'Cat', 'aa': 'Apple'}\n",
      "Apple\n"
     ]
    }
   ],
   "source": [
    "a = {'a': 'Apple', 'b': 'Ball', 'c': 'Cat','aa':\"Apple\"}\n",
    "b = a.pop('a')\n",
    "print(a)\n",
    "print(b)"
   ]
  },
  {
   "cell_type": "markdown",
   "metadata": {},
   "source": [
    "# delete"
   ]
  },
  {
   "cell_type": "code",
   "execution_count": 26,
   "metadata": {
    "collapsed": false
   },
   "outputs": [
    {
     "data": {
      "text/plain": [
       "{'b': 'Ball', 'c': 'Cat', 'aa': 'Apple'}"
      ]
     },
     "execution_count": 26,
     "metadata": {},
     "output_type": "execute_result"
    }
   ],
   "source": [
    "a = {'a': 'Apple', 'b': 'Ball', 'c': 'Cat','aa':\"Apple\"}\n",
    "del a['a']\n",
    "a"
   ]
  },
  {
   "cell_type": "markdown",
   "metadata": {},
   "source": [
    "# Length"
   ]
  },
  {
   "cell_type": "code",
   "execution_count": 27,
   "metadata": {
    "collapsed": false
   },
   "outputs": [
    {
     "data": {
      "text/plain": [
       "4"
      ]
     },
     "execution_count": 27,
     "metadata": {},
     "output_type": "execute_result"
    }
   ],
   "source": [
    "a = {'a': 'Apple', 'b': 'Ball', 'c': 'Cat','aa':\"Apple\"}\n",
    "len(a)"
   ]
  },
  {
   "cell_type": "code",
   "execution_count": 28,
   "metadata": {
    "collapsed": false
   },
   "outputs": [
    {
     "ename": "TypeError",
     "evalue": "unsupported operand type(s) for +: 'dict' and 'dict'",
     "output_type": "error",
     "traceback": [
      "\u001b[1;31m---------------------------------------------------------------------------\u001b[0m",
      "\u001b[1;31mTypeError\u001b[0m                                 Traceback (most recent call last)",
      "\u001b[1;32m<ipython-input-28-faf2b747465c>\u001b[0m in \u001b[0;36m<module>\u001b[1;34m\u001b[0m\n\u001b[0;32m      1\u001b[0m \u001b[0ma\u001b[0m \u001b[1;33m=\u001b[0m \u001b[1;33m{\u001b[0m\u001b[1;34m'a'\u001b[0m\u001b[1;33m:\u001b[0m \u001b[1;34m'Apple'\u001b[0m\u001b[1;33m,\u001b[0m \u001b[1;34m'b'\u001b[0m\u001b[1;33m:\u001b[0m \u001b[1;34m'Ball'\u001b[0m\u001b[1;33m,\u001b[0m \u001b[1;34m'c'\u001b[0m\u001b[1;33m:\u001b[0m \u001b[1;34m'Cat'\u001b[0m\u001b[1;33m,\u001b[0m\u001b[1;34m'aa'\u001b[0m\u001b[1;33m:\u001b[0m\u001b[1;34m\"Apple\"\u001b[0m\u001b[1;33m}\u001b[0m\u001b[1;33m\u001b[0m\u001b[1;33m\u001b[0m\u001b[0m\n\u001b[0;32m      2\u001b[0m \u001b[0mb\u001b[0m \u001b[1;33m=\u001b[0m \u001b[1;33m{\u001b[0m\u001b[1;34m'f'\u001b[0m\u001b[1;33m:\u001b[0m\u001b[1;34m'Fish'\u001b[0m\u001b[1;33m}\u001b[0m\u001b[1;33m\u001b[0m\u001b[1;33m\u001b[0m\u001b[0m\n\u001b[1;32m----> 3\u001b[1;33m \u001b[0ma\u001b[0m\u001b[1;33m+\u001b[0m\u001b[0mb\u001b[0m\u001b[1;33m\u001b[0m\u001b[1;33m\u001b[0m\u001b[0m\n\u001b[0m",
      "\u001b[1;31mTypeError\u001b[0m: unsupported operand type(s) for +: 'dict' and 'dict'"
     ]
    }
   ],
   "source": [
    "a = {'a': 'Apple', 'b': 'Ball', 'c': 'Cat','aa':\"Apple\"}\n",
    "b = {'f':'Fish'}\n",
    "a+b"
   ]
  },
  {
   "cell_type": "code",
   "execution_count": 29,
   "metadata": {
    "collapsed": false
   },
   "outputs": [
    {
     "ename": "TypeError",
     "evalue": "unsupported operand type(s) for *: 'dict' and 'int'",
     "output_type": "error",
     "traceback": [
      "\u001b[1;31m---------------------------------------------------------------------------\u001b[0m",
      "\u001b[1;31mTypeError\u001b[0m                                 Traceback (most recent call last)",
      "\u001b[1;32m<ipython-input-29-ec602647f387>\u001b[0m in \u001b[0;36m<module>\u001b[1;34m\u001b[0m\n\u001b[0;32m      1\u001b[0m \u001b[0mb\u001b[0m \u001b[1;33m=\u001b[0m \u001b[1;33m{\u001b[0m\u001b[1;34m'f'\u001b[0m\u001b[1;33m:\u001b[0m\u001b[1;34m'Fish'\u001b[0m\u001b[1;33m}\u001b[0m\u001b[1;33m\u001b[0m\u001b[1;33m\u001b[0m\u001b[0m\n\u001b[1;32m----> 2\u001b[1;33m \u001b[0mb\u001b[0m\u001b[1;33m*\u001b[0m\u001b[1;36m2\u001b[0m\u001b[1;33m\u001b[0m\u001b[1;33m\u001b[0m\u001b[0m\n\u001b[0m",
      "\u001b[1;31mTypeError\u001b[0m: unsupported operand type(s) for *: 'dict' and 'int'"
     ]
    }
   ],
   "source": [
    "b = {'f':'Fish'}\n",
    "b*2"
   ]
  },
  {
   "cell_type": "markdown",
   "metadata": {},
   "source": [
    "# update"
   ]
  },
  {
   "cell_type": "code",
   "execution_count": 32,
   "metadata": {
    "collapsed": false
   },
   "outputs": [
    {
     "data": {
      "text/plain": [
       "{'a': 'Ant', 'b': 'Ball', 'c': 'Cat', 'aa': 'Apple', 'f': 'Fish'}"
      ]
     },
     "execution_count": 32,
     "metadata": {},
     "output_type": "execute_result"
    }
   ],
   "source": [
    "a = {'a': 'Apple', 'b': 'Ball', 'c': 'Cat','aa':\"Apple\"}\n",
    "b = {'f':'Fish','a':'Ant'}\n",
    "a.update(b)\n",
    "a"
   ]
  },
  {
   "cell_type": "markdown",
   "metadata": {},
   "source": [
    "# Clear"
   ]
  },
  {
   "cell_type": "code",
   "execution_count": 34,
   "metadata": {
    "collapsed": false
   },
   "outputs": [
    {
     "data": {
      "text/plain": [
       "{}"
      ]
     },
     "execution_count": 34,
     "metadata": {},
     "output_type": "execute_result"
    }
   ],
   "source": [
    "a = {'a': 'Apple', 'b': 'Ball', 'c': 'Cat','aa':\"Apple\"}\n",
    "a.clear()\n",
    "a"
   ]
  },
  {
   "cell_type": "code",
   "execution_count": 35,
   "metadata": {
    "collapsed": false
   },
   "outputs": [
    {
     "data": {
      "text/plain": [
       "'Akash'"
      ]
     },
     "execution_count": 35,
     "metadata": {},
     "output_type": "execute_result"
    }
   ],
   "source": [
    "info = {'Name':'Akash','Age':34,'Address':'Kathmandu'}\n",
    "info['Name']"
   ]
  },
  {
   "cell_type": "code",
   "execution_count": 37,
   "metadata": {
    "collapsed": false
   },
   "outputs": [
    {
     "name": "stdout",
     "output_type": "stream",
     "text": [
      "Enter name = Ram\n",
      "Enter age = 45\n",
      "Enter Address = Patan\n",
      "{'Name': 'Ram', 'Age': 45, 'Address': 'Patan'}\n"
     ]
    }
   ],
   "source": [
    "name = input(\"Enter name = \")\n",
    "age = int(input(\"Enter age = \"))\n",
    "address = input(\"Enter Address = \")\n",
    "info = {'Name':name,'Age':age,'Address':address}\n",
    "print(info)"
   ]
  },
  {
   "cell_type": "code",
   "execution_count": 2,
   "metadata": {
    "collapsed": false
   },
   "outputs": [
    {
     "name": "stdout",
     "output_type": "stream",
     "text": [
      "Enter name = Ram\n",
      "Enter age = 56\n",
      "Enter Address = jkshjdsf\n",
      "{'Name': 'Ram', 'age': 56, 'address': 'jkshjdsf'}\n"
     ]
    }
   ],
   "source": [
    "info = {}\n",
    "name = input(\"Enter name = \")\n",
    "age = int(input(\"Enter age = \"))\n",
    "address = input(\"Enter Address = \")\n",
    "info['Name'] = name\n",
    "info['age']=age\n",
    "info['address'] = address\n",
    "print(info)"
   ]
  },
  {
   "cell_type": "code",
   "execution_count": 3,
   "metadata": {
    "collapsed": false
   },
   "outputs": [
    {
     "data": {
      "text/plain": [
       "'Ram'"
      ]
     },
     "execution_count": 3,
     "metadata": {},
     "output_type": "execute_result"
    }
   ],
   "source": [
    "info['Name']"
   ]
  },
  {
   "cell_type": "code",
   "execution_count": 5,
   "metadata": {
    "collapsed": false
   },
   "outputs": [
    {
     "name": "stdout",
     "output_type": "stream",
     "text": [
      "Enter the no of Students = 2\n",
      "Enter name = Ram\n",
      "Enter age = 67\n",
      "Enter Address = Patan\n",
      "Enter name = Shyam\n",
      "Enter age = 34\n",
      "Enter Address = Kathmandu\n",
      "{'Name': ['Ram', 'Shyam'], 'Age': [67, 34], 'Address': ['Patan', 'Kathmandu']}\n"
     ]
    }
   ],
   "source": [
    "\n",
    "name = []\n",
    "age = []\n",
    "address = []\n",
    "n = int(input(\"Enter the no of Students = \"))\n",
    "for i in range(n):\n",
    "    na = input(\"Enter name = \")\n",
    "    ag = int(input(\"Enter age = \"))\n",
    "    add = input(\"Enter Address = \")\n",
    "    name.append(na)\n",
    "    age.append(ag)\n",
    "    address.append(add)\n",
    "info = {'Name':name,'Age':age,'Address':address}\n",
    "print(info)"
   ]
  },
  {
   "cell_type": "code",
   "execution_count": 11,
   "metadata": {
    "collapsed": false
   },
   "outputs": [
    {
     "name": "stdout",
     "output_type": "stream",
     "text": [
      "Enter the value of i = 1\n",
      "Shyam\n",
      "34\n",
      "Kathmandu\n"
     ]
    }
   ],
   "source": [
    "i = int(input(\"Enter the value of i = \"))\n",
    "print(info['Name'][i])\n",
    "print(info['Age'][i])\n",
    "print(info['Address'][i])"
   ]
  },
  {
   "cell_type": "code",
   "execution_count": 13,
   "metadata": {
    "collapsed": false
   },
   "outputs": [
    {
     "name": "stdout",
     "output_type": "stream",
     "text": [
      "Enter the no of Students = 2\n",
      "Enter name = sdfd\n",
      "Enter age = 34\n",
      "Enter Address = dfg\n",
      "Enter name = dgfd\n",
      "Enter age = 54\n",
      "Enter Address = dfgdf\n",
      "{'Roll': [1, 2], 'Name': ['sdfd', 'dgfd'], 'Age': [34, 54], 'Address': ['dfg', 'dfgdf']}\n"
     ]
    }
   ],
   "source": [
    "roll = []\n",
    "name = []\n",
    "age = []\n",
    "address = []\n",
    "n = int(input(\"Enter the no of Students = \"))\n",
    "for i in range(1,n+1):\n",
    "    na = input(\"Enter name = \")\n",
    "    ag = int(input(\"Enter age = \"))\n",
    "    add = input(\"Enter Address = \")\n",
    "    name.append(na)\n",
    "    age.append(ag)\n",
    "    address.append(add)\n",
    "    roll.append(i)\n",
    "info = {'Roll':roll,'Name':name,'Age':age,'Address':address}\n",
    "print(info)"
   ]
  },
  {
   "cell_type": "code",
   "execution_count": 15,
   "metadata": {
    "collapsed": false
   },
   "outputs": [
    {
     "name": "stdout",
     "output_type": "stream",
     "text": [
      "Enter the value of i = 1\n",
      "1\n",
      "sdfd\n",
      "34\n",
      "dfg\n"
     ]
    }
   ],
   "source": [
    "i = int(input(\"Enter the value of i = \"))-1\n",
    "print(info['Roll'][i])\n",
    "print(info['Name'][i])\n",
    "print(info['Age'][i])\n",
    "print(info['Address'][i])"
   ]
  },
  {
   "cell_type": "code",
   "execution_count": 18,
   "metadata": {
    "collapsed": false
   },
   "outputs": [
    {
     "data": {
      "text/plain": [
       "{'Ram': {'Physics': 34, 'Chemistry': 45, 'Math': 67},\n",
       " 'Shyam': {'Physics': 38, 'Chemistry': 65, 'Math': 87}}"
      ]
     },
     "execution_count": 18,
     "metadata": {},
     "output_type": "execute_result"
    }
   ],
   "source": [
    "a = {'Ram':{'Physics':34,'Chemistry':45,'Math':67},\n",
    "    'Shyam':{'Physics':38,'Chemistry':65,'Math':87}}\n"
   ]
  },
  {
   "cell_type": "code",
   "execution_count": 20,
   "metadata": {
    "collapsed": false
   },
   "outputs": [
    {
     "data": {
      "text/plain": [
       "{'Physics': 38, 'Chemistry': 65, 'Math': 87}"
      ]
     },
     "execution_count": 20,
     "metadata": {},
     "output_type": "execute_result"
    }
   ],
   "source": [
    "a['Ram']\n",
    "a['Shyam']"
   ]
  },
  {
   "cell_type": "code",
   "execution_count": 23,
   "metadata": {
    "collapsed": false
   },
   "outputs": [
    {
     "name": "stdout",
     "output_type": "stream",
     "text": [
      "Enter name=Ram\n"
     ]
    },
    {
     "data": {
      "text/plain": [
       "{'Physics': 34, 'Chemistry': 45, 'Math': 67}"
      ]
     },
     "execution_count": 23,
     "metadata": {},
     "output_type": "execute_result"
    }
   ],
   "source": [
    "name = input(\"Enter name=\")\n",
    "a[name]"
   ]
  },
  {
   "cell_type": "code",
   "execution_count": 24,
   "metadata": {
    "collapsed": false
   },
   "outputs": [
    {
     "data": {
      "text/plain": [
       "{'Ram': {'Physics': 34, 'Chemistry': 45, 'Math': 67},\n",
       " 'Shyam': {'Physics': 38, 'Chemistry': 65, 'Math': 87},\n",
       " 'Hari': {'Physics': 67, 'Chemistry': 89, 'Math': 45}}"
      ]
     },
     "execution_count": 24,
     "metadata": {},
     "output_type": "execute_result"
    }
   ],
   "source": [
    "a = {'Ram':{'Physics':34,'Chemistry':45,'Math':67},\n",
    "    'Shyam':{'Physics':38,'Chemistry':65,'Math':87}}\n",
    "a['Hari'] = {'Physics':67,'Chemistry':89,'Math':45}\n",
    "a"
   ]
  },
  {
   "cell_type": "code",
   "execution_count": 26,
   "metadata": {
    "collapsed": false
   },
   "outputs": [
    {
     "data": {
      "text/plain": [
       "{'Ram': {'Physics': 34, 'Chemistry': 45, 'Math': 67},\n",
       " 'Shyam': {'Physics': 38, 'Chemistry': 65, 'Math': 87},\n",
       " 'Hari': {'Physics': 97, 'Chemistry': 89, 'Math': 45}}"
      ]
     },
     "execution_count": 26,
     "metadata": {},
     "output_type": "execute_result"
    }
   ],
   "source": [
    "a['Hari']['Physics'] = 97\n",
    "a"
   ]
  },
  {
   "cell_type": "code",
   "execution_count": 27,
   "metadata": {
    "collapsed": false
   },
   "outputs": [
    {
     "name": "stdout",
     "output_type": "stream",
     "text": [
      "Enter the no of students = 2\n",
      "Enter name = Ram\n",
      "Enter the marks in physics = 56\n",
      "Enter the marks in chemistry = 67\n",
      "Enter the marks in math = 89\n",
      "Enter the marks in english = 34\n",
      "Enter the marks in nepali = 67\n",
      "Enter name = Hari\n",
      "Enter the marks in physics = 67\n",
      "Enter the marks in chemistry = 89\n",
      "Enter the marks in math = 34\n",
      "Enter the marks in english = 78\n",
      "Enter the marks in nepali = 34\n",
      "{'Ram': {'Physics': 56, 'Chemistry': 67, 'Math': 89, 'English': 34, 'Nepali': 67}, 'Hari': {'Physics': 67, 'Chemistry': 89, 'Math': 34, 'English': 78, 'Nepali': 34}}\n"
     ]
    }
   ],
   "source": [
    "a = {}\n",
    "n = int(input(\"Enter the no of students = \"))\n",
    "for i in range(n):\n",
    "    name = input(\"Enter name = \")\n",
    "    physics = int(input(\"Enter the marks in physics = \"))\n",
    "    chemistry = int(input(\"Enter the marks in chemistry = \"))\n",
    "    math = int(input(\"Enter the marks in math = \"))\n",
    "    english = int(input(\"Enter the marks in english = \"))\n",
    "    nepali = int(input(\"Enter the marks in nepali = \"))\n",
    "    a[name] = {'Physics':physics,'Chemistry':chemistry,'Math':math,\n",
    "              'English':english,'Nepali':nepali}\n",
    "print(a)"
   ]
  },
  {
   "cell_type": "code",
   "execution_count": 28,
   "metadata": {
    "collapsed": false
   },
   "outputs": [
    {
     "data": {
      "text/plain": [
       "{'Physics': 56, 'Chemistry': 67, 'Math': 89, 'English': 34, 'Nepali': 67}"
      ]
     },
     "execution_count": 28,
     "metadata": {},
     "output_type": "execute_result"
    }
   ],
   "source": [
    "a['Ram']"
   ]
  },
  {
   "cell_type": "code",
   "execution_count": 29,
   "metadata": {
    "collapsed": false
   },
   "outputs": [
    {
     "name": "stdout",
     "output_type": "stream",
     "text": [
      "Enter the no of students = 2\n",
      "Enter name = Ram\n",
      "Enter the marks in physics = 56\n",
      "Enter the marks in chemistry = 23\n",
      "Enter the marks in math = 89\n",
      "Enter the marks in english = 78\n",
      "Enter the marks in nepali = 90\n",
      "Enter name = Shyam\n",
      "Enter the marks in physics = 78\n",
      "Enter the marks in chemistry = 56\n",
      "Enter the marks in math = 90\n",
      "Enter the marks in english = 45\n",
      "Enter the marks in nepali = 56\n",
      "{'Ram': {'Physics': 56, 'Chemistry': 23, 'Math': 89, 'English': 78, 'Nepali': 90, 'Total': 336, 'Per': 67.2}, 'Shyam': {'Physics': 78, 'Chemistry': 56, 'Math': 90, 'English': 45, 'Nepali': 56, 'Total': 325, 'Per': 65.0}}\n"
     ]
    }
   ],
   "source": [
    "a = {}\n",
    "\n",
    "\n",
    "n = int(input(\"Enter the no of students = \"))\n",
    "for i in range(n):\n",
    "    name = input(\"Enter name = \")\n",
    "    physics = int(input(\"Enter the marks in physics = \"))\n",
    "    chemistry = int(input(\"Enter the marks in chemistry = \"))\n",
    "    math = int(input(\"Enter the marks in math = \"))\n",
    "    english = int(input(\"Enter the marks in english = \"))\n",
    "    nepali = int(input(\"Enter the marks in nepali = \"))\n",
    "    \n",
    "    total = sum([physics,chemistry,math,english,nepali])\n",
    "    per = total/5\n",
    "    \n",
    "    a[name] = {'Physics':physics,'Chemistry':chemistry,'Math':math,\n",
    "              'English':english,'Nepali':nepali,'Total':total,'Per':per}\n",
    "print(a)"
   ]
  },
  {
   "cell_type": "code",
   "execution_count": 31,
   "metadata": {
    "collapsed": false
   },
   "outputs": [
    {
     "name": "stdout",
     "output_type": "stream",
     "text": [
      "Enter name = Ram\n",
      "('Physics', 56)\n",
      "('Chemistry', 23)\n",
      "('Math', 89)\n",
      "('English', 78)\n",
      "('Nepali', 90)\n",
      "('Total', 336)\n",
      "('Per', 67.2)\n"
     ]
    }
   ],
   "source": [
    "name = input(\"Enter name = \")\n",
    "data = a[name]\n",
    "for i in data.items():\n",
    "    print(i)"
   ]
  },
  {
   "cell_type": "code",
   "execution_count": 33,
   "metadata": {
    "collapsed": false
   },
   "outputs": [
    {
     "name": "stdout",
     "output_type": "stream",
     "text": [
      "Enter name = Ram\n",
      "Enter subjectPhysics\n",
      "Enter value for update = 89\n"
     ]
    }
   ],
   "source": [
    "name = input(\"Enter name = \")\n",
    "subject = input(\"Enter subject\")\n",
    "update = int(input(\"Enter value for update = \"))\n",
    "a[name][subject] = update"
   ]
  },
  {
   "cell_type": "code",
   "execution_count": 34,
   "metadata": {
    "collapsed": false
   },
   "outputs": [
    {
     "data": {
      "text/plain": [
       "{'Ram': {'Physics': 89,\n",
       "  'Chemistry': 23,\n",
       "  'Math': 89,\n",
       "  'English': 78,\n",
       "  'Nepali': 90,\n",
       "  'Total': 336,\n",
       "  'Per': 67.2},\n",
       " 'Shyam': {'Physics': 78,\n",
       "  'Chemistry': 56,\n",
       "  'Math': 90,\n",
       "  'English': 45,\n",
       "  'Nepali': 56,\n",
       "  'Total': 325,\n",
       "  'Per': 65.0}}"
      ]
     },
     "execution_count": 34,
     "metadata": {},
     "output_type": "execute_result"
    }
   ],
   "source": [
    "a"
   ]
  },
  {
   "cell_type": "code",
   "execution_count": null,
   "metadata": {
    "collapsed": true
   },
   "outputs": [],
   "source": []
  },
  {
   "cell_type": "code",
   "execution_count": null,
   "metadata": {
    "collapsed": true
   },
   "outputs": [],
   "source": []
  }
 ],
 "metadata": {
  "kernelspec": {
   "display_name": "Python 3",
   "language": "python",
   "name": "python3"
  },
  "language_info": {
   "codemirror_mode": {
    "name": "ipython",
    "version": 3
   },
   "file_extension": ".py",
   "mimetype": "text/x-python",
   "name": "python",
   "nbconvert_exporter": "python",
   "pygments_lexer": "ipython3",
   "version": "3.6.0"
  }
 },
 "nbformat": 4,
 "nbformat_minor": 2
}
