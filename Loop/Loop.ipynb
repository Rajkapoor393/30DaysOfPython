{
 "cells": [
  {
   "cell_type": "code",
   "execution_count": 1,
   "metadata": {
    "collapsed": false
   },
   "outputs": [
    {
     "ename": "SyntaxError",
     "evalue": "invalid syntax (<ipython-input-1-665982e8d1f5>, line 11)",
     "output_type": "error",
     "traceback": [
      "\u001b[0;36m  File \u001b[0;32m\"<ipython-input-1-665982e8d1f5>\"\u001b[0;36m, line \u001b[0;32m11\u001b[0m\n\u001b[0;31m    while as if condition\u001b[0m\n\u001b[0m           ^\u001b[0m\n\u001b[0;31mSyntaxError\u001b[0m\u001b[0;31m:\u001b[0m invalid syntax\n"
     ]
    }
   ],
   "source": [
    "#for \n",
    "#while\n",
    "#factorial\n",
    "#even number \n",
    "#odd Number\n",
    "#control statement\n",
    "break\n",
    "continue \n",
    "pass\n",
    "prime\n",
    "while as if condition\n",
    "tuples\n"
   ]
  },
  {
   "cell_type": "code",
   "execution_count": 14,
   "metadata": {
    "collapsed": false
   },
   "outputs": [
    {
     "name": "stdout",
     "output_type": "stream",
     "text": [
      "('apple', 'mango', 'banana', 'cherry', 'orange', 'grapes')\n",
      "cherry\n",
      "grapes\n",
      "('mango', 'banana', 'cherry', 'orange')\n",
      "('mango', 'banana', 'cherry', 'orange')\n",
      "('apple', 'pomogranet', 'banana', 'cherry', 'orange', 'grapes')\n",
      "apple\n",
      "pomogranet\n",
      "banana\n",
      "cherry\n",
      "orange\n",
      "grapes\n",
      "Yes, 'apple' is in the fruit tuple\n",
      "6\n",
      "('apple', 'pomogranet', 'banana', 'cherry', 'orange', 'grapes', 1, 2, 3, 4, 5, 6, 7)\n"
     ]
    }
   ],
   "source": [
    "# Tuple\n",
    "a = (\"apple\", \"mango\", \"banana\", \"cherry\", \"orange\", \"grapes\")\n",
    "print(a)\n",
    "\n",
    "# Access tuple items\n",
    "print(a[3])\n",
    "\n",
    "# Negative indexing\n",
    "print(a[-1])\n",
    "\n",
    "# Range of indexing\n",
    "print(a[1:5])\n",
    "\n",
    "# Range of negative indexing\n",
    "print(a[-5:-1])\n",
    "\n",
    "# Change tuple value\n",
    "b = list(a)\n",
    "b[1]=\"pomogranet\"\n",
    "a = tuple(b)\n",
    "print(a)\n",
    "\n",
    "# Loop through a tuple\n",
    "\n",
    "for x in a:\n",
    "    print(x)\n",
    "    \n",
    "# Check if item exists\n",
    "if \"apple\" in a:\n",
    "    print(\"Yes, 'apple' is in the fruit tuple\")\n",
    "\n",
    "# tuple length\n",
    "print(len(a))\n",
    "\n",
    "# join two tuples\n",
    "a1 = (1,2,3,4,5,6,7)\n",
    "a2 = a+a1\n",
    "print(a2)"
   ]
  },
  {
   "cell_type": "code",
   "execution_count": 22,
   "metadata": {
    "collapsed": false
   },
   "outputs": [
    {
     "name": "stdout",
     "output_type": "stream",
     "text": [
      "apple\n",
      "mango\n",
      "banana\n",
      "cherry\n",
      "orange\n",
      "grapes\n",
      "p\n",
      "o\n",
      "m\n",
      "o\n",
      "g\n",
      "r\n",
      "a\n",
      "n\n",
      "e\n",
      "t\n",
      "apple\n",
      "mango\n",
      "banana\n",
      "apple\n",
      "mango\n",
      "cherry\n",
      "orange\n",
      "grapes\n"
     ]
    }
   ],
   "source": [
    "# for Loop\n",
    "a = (\"apple\", \"mango\", \"banana\", \"cherry\", \"orange\", \"grapes\")\n",
    "for x in a:\n",
    "    print(x)\n",
    "\n",
    "# loop through string\n",
    "for x1 in \"pomogranet\":\n",
    "    print(x1)\n",
    "\n",
    "# The break statement\n",
    "a = [\"apple\", \"mango\", \"banana\", \"cherry\", \"orange\", \"grapes\"]\n",
    "for x2 in a:\n",
    "    print(x2)\n",
    "    if x2==\"banana\":\n",
    "        break\n",
    "        \n",
    "# continue statement\n",
    "a = [\"apple\", \"mango\", \"banana\", \"cherry\", \"orange\", \"grapes\"]\n",
    "for x in a:\n",
    "    if x == \"banana\":\n",
    "        continue\n",
    "    print(x)"
   ]
  },
  {
   "cell_type": "code",
   "execution_count": 21,
   "metadata": {
    "collapsed": false
   },
   "outputs": [
    {
     "name": "stdout",
     "output_type": "stream",
     "text": [
      "apple\n",
      "mango\n",
      "banana\n",
      "cherry\n",
      "orange\n",
      "grapes\n"
     ]
    }
   ],
   "source": [
    "# pass statement\n",
    "a = [\"apple\", \"mango\", \"banana\", \"cherry\", \"orange\", \"grapes\"]\n",
    "for x in a:\n",
    "    if x == \"banana\":\n",
    "        pass\n",
    "    print(x)"
   ]
  },
  {
   "cell_type": "code",
   "execution_count": 2,
   "metadata": {
    "collapsed": false
   },
   "outputs": [
    {
     "name": "stdout",
     "output_type": "stream",
     "text": [
      "1\n",
      "2\n",
      "3\n",
      "4\n",
      "5\n",
      "0\n",
      "5\n",
      "10\n",
      "15\n",
      "20\n",
      "25\n"
     ]
    }
   ],
   "source": [
    "# Range\n",
    "for x in range(1,6):\n",
    "    print(x)\n",
    "    \n",
    "for x in range(0,30,5):\n",
    "    print(x)"
   ]
  },
  {
   "cell_type": "code",
   "execution_count": 34,
   "metadata": {
    "collapsed": false
   },
   "outputs": [
    {
     "name": "stdout",
     "output_type": "stream",
     "text": [
      "Enter the number to get the multiple table 10\n",
      "10 * 1 = 10\n",
      "10 * 2 = 20\n",
      "10 * 3 = 30\n",
      "10 * 4 = 40\n",
      "10 * 5 = 50\n",
      "10 * 6 = 60\n",
      "10 * 7 = 70\n",
      "10 * 8 = 80\n",
      "10 * 9 = 90\n",
      "10 * 10 = 100\n"
     ]
    }
   ],
   "source": [
    "# print multiple table\n",
    "n = int(input(\"Enter the number to get the multiple table \"))\n",
    "for i in range(1,11):\n",
    "    print(n,\"*\",i,\"=\",i*n)"
   ]
  },
  {
   "cell_type": "code",
   "execution_count": 37,
   "metadata": {
    "collapsed": false
   },
   "outputs": [
    {
     "name": "stdout",
     "output_type": "stream",
     "text": [
      "Enter the number 5\n",
      "120\n"
     ]
    }
   ],
   "source": [
    "# factorial\n",
    "fact = 1\n",
    "n = int(input(\"Enter the number \"))\n",
    "for i in range(1,n+1):\n",
    "    if i<0:\n",
    "        print(\"The factorial doesnot exist\")\n",
    "    elif i==0:\n",
    "        print(\"The factorial is \", 1)\n",
    "    else:\n",
    "        fact = fact*i\n",
    "print(fact)"
   ]
  },
  {
   "cell_type": "code",
   "execution_count": 40,
   "metadata": {
    "collapsed": false
   },
   "outputs": [
    {
     "name": "stdout",
     "output_type": "stream",
     "text": [
      "Enter the number 2\n",
      "It is even\n"
     ]
    }
   ],
   "source": [
    "#Odd Even\n",
    "num = int(input(\"Enter the number \"))\n",
    "if num % 2 !=0:\n",
    "    print(\"It is odd\")\n",
    "else:\n",
    "    print(\"It is even\")"
   ]
  },
  {
   "cell_type": "code",
   "execution_count": 3,
   "metadata": {
    "collapsed": false
   },
   "outputs": [
    {
     "name": "stdout",
     "output_type": "stream",
     "text": [
      "Enter the number 153\n",
      "It is not a prime number \n"
     ]
    }
   ],
   "source": [
    "# Prime number\n",
    "num = int(input(\"Enter the number \"))\n",
    "if num > 1:\n",
    "    for i in range(2, num):\n",
    "        if num%i ==0:\n",
    "            print(\"It is not a prime number \")\n",
    "            break\n",
    "    else:\n",
    "            print(\"It is a prime number \")\n",
    "else:\n",
    "    print(\"It is no a prime number \")"
   ]
  },
  {
   "cell_type": "code",
   "execution_count": 4,
   "metadata": {
    "collapsed": false
   },
   "outputs": [
    {
     "name": "stdout",
     "output_type": "stream",
     "text": [
      "1\n",
      "2\n",
      "3\n",
      "4\n",
      "5\n"
     ]
    }
   ],
   "source": [
    "# while loop\n",
    "i = 1\n",
    "while i < 6:\n",
    "    print(i)\n",
    "    i += 1"
   ]
  },
  {
   "cell_type": "code",
   "execution_count": null,
   "metadata": {
    "collapsed": false
   },
   "outputs": [],
   "source": [
    "i = 1\n",
    "while i < 10:\n",
    "    print(i)\n",
    "    if i==4:\n",
    "        break\n",
    "    i += 1"
   ]
  },
  {
   "cell_type": "code",
   "execution_count": null,
   "metadata": {
    "collapsed": false
   },
   "outputs": [],
   "source": [
    "i = 1\n",
    "while i < 10:\n",
    "    print(i)\n",
    "    i += 1\n",
    "    if i==4:\n",
    "        continue\n",
    "    "
   ]
  },
  {
   "cell_type": "code",
   "execution_count": null,
   "metadata": {
    "collapsed": true
   },
   "outputs": [],
   "source": []
  }
 ],
 "metadata": {
  "kernelspec": {
   "display_name": "Python 3",
   "language": "python",
   "name": "python3"
  },
  "language_info": {
   "codemirror_mode": {
    "name": "ipython",
    "version": 3
   },
   "file_extension": ".py",
   "mimetype": "text/x-python",
   "name": "python",
   "nbconvert_exporter": "python",
   "pygments_lexer": "ipython3",
   "version": "3.6.0"
  }
 },
 "nbformat": 4,
 "nbformat_minor": 2
}
