{
 "cells": [
  {
   "cell_type": "code",
   "execution_count": 9,
   "metadata": {},
   "outputs": [],
   "source": [
    "import torch"
   ]
  },
  {
   "cell_type": "markdown",
   "metadata": {},
   "source": [
    "### Tensor"
   ]
  },
  {
   "cell_type": "code",
   "execution_count": 4,
   "metadata": {},
   "outputs": [
    {
     "name": "stdout",
     "output_type": "stream",
     "text": [
      "tensor([[1., 1.],\n",
      "        [1., 1.]], requires_grad=True)\n"
     ]
    }
   ],
   "source": [
    "a = torch.ones(2,2, requires_grad=True)\n",
    "print(a)"
   ]
  },
  {
   "cell_type": "code",
   "execution_count": 6,
   "metadata": {},
   "outputs": [
    {
     "name": "stdout",
     "output_type": "stream",
     "text": [
      "tensor([[3., 3.],\n",
      "        [3., 3.]], grad_fn=<AddBackward0>)\n"
     ]
    }
   ],
   "source": [
    "b = a+2\n",
    "print(b)"
   ]
  },
  {
   "cell_type": "code",
   "execution_count": 7,
   "metadata": {},
   "outputs": [
    {
     "name": "stdout",
     "output_type": "stream",
     "text": [
      "<AddBackward0 object at 0x0000020F9501A048>\n"
     ]
    }
   ],
   "source": [
    "print(b.grad_fn)"
   ]
  },
  {
   "cell_type": "code",
   "execution_count": 8,
   "metadata": {},
   "outputs": [
    {
     "name": "stdout",
     "output_type": "stream",
     "text": [
      "tensor([[27., 27.],\n",
      "        [27., 27.]], grad_fn=<MulBackward0>) tensor(27., grad_fn=<MeanBackward0>)\n"
     ]
    }
   ],
   "source": [
    "c = b*b*3\n",
    "out = c.mean()\n",
    "print(c,out)"
   ]
  },
  {
   "cell_type": "code",
   "execution_count": 10,
   "metadata": {},
   "outputs": [],
   "source": [
    "from __future__ import print_function\n",
    "import torch"
   ]
  },
  {
   "cell_type": "code",
   "execution_count": 11,
   "metadata": {},
   "outputs": [
    {
     "name": "stdout",
     "output_type": "stream",
     "text": [
      "tensor([[9.2755e-39, 1.0653e-38, 1.0469e-38],\n",
      "        [2.9389e-39, 8.9082e-39, 9.2755e-39],\n",
      "        [2.9388e-39, 1.0469e-38, 1.0837e-38],\n",
      "        [9.9184e-39, 1.0010e-38, 2.9389e-39],\n",
      "        [8.9082e-39, 9.2755e-39, 2.9389e-39],\n",
      "        [1.1112e-38, 1.0653e-38, 1.1020e-38]])\n"
     ]
    }
   ],
   "source": [
    "a = torch.empty(6,3)\n",
    "print(a)"
   ]
  },
  {
   "cell_type": "code",
   "execution_count": 12,
   "metadata": {},
   "outputs": [
    {
     "name": "stdout",
     "output_type": "stream",
     "text": [
      "tensor([[0.7138, 0.2961, 0.3662],\n",
      "        [0.2027, 0.8693, 0.8205],\n",
      "        [0.8300, 0.6037, 0.7620],\n",
      "        [0.4990, 0.8016, 0.6536]])\n"
     ]
    }
   ],
   "source": [
    "a = torch.rand(4,3)\n",
    "print(a)"
   ]
  },
  {
   "cell_type": "code",
   "execution_count": 14,
   "metadata": {},
   "outputs": [
    {
     "name": "stdout",
     "output_type": "stream",
     "text": [
      "tensor([[0, 0, 0],\n",
      "        [0, 0, 0],\n",
      "        [0, 0, 0],\n",
      "        [0, 0, 0]])\n"
     ]
    }
   ],
   "source": [
    "a = torch.zeros(4,3, dtype= torch.long)\n",
    "print(a)"
   ]
  },
  {
   "cell_type": "code",
   "execution_count": 16,
   "metadata": {},
   "outputs": [
    {
     "name": "stdout",
     "output_type": "stream",
     "text": [
      "tensor([8.7000, 5.0000])\n"
     ]
    },
    {
     "data": {
      "text/plain": [
       "torch.Tensor"
      ]
     },
     "execution_count": 16,
     "metadata": {},
     "output_type": "execute_result"
    }
   ],
   "source": [
    "a = torch.tensor([8.7,5])\n",
    "print(a)\n",
    "type(a)"
   ]
  },
  {
   "cell_type": "code",
   "execution_count": 17,
   "metadata": {},
   "outputs": [
    {
     "name": "stdout",
     "output_type": "stream",
     "text": [
      "tensor([[1., 1., 1., 1., 1.],\n",
      "        [1., 1., 1., 1., 1.],\n",
      "        [1., 1., 1., 1., 1.],\n",
      "        [1., 1., 1., 1., 1.],\n",
      "        [1., 1., 1., 1., 1.],\n",
      "        [1., 1., 1., 1., 1.]], dtype=torch.float64)\n",
      "tensor([[ 3.3438e-01,  5.8200e-01, -3.1531e+00,  3.1633e-01,  7.1546e-01],\n",
      "        [-2.3468e-01,  1.0025e+00,  1.3347e+00,  8.3717e-01,  4.8084e-01],\n",
      "        [-4.3578e-01,  9.5103e-01, -1.0260e+00, -2.3138e-01, -1.0096e+00],\n",
      "        [-3.5188e-01, -6.2308e-02,  6.1322e-01,  1.6235e-03,  6.6882e-01],\n",
      "        [ 4.3498e-01,  5.1204e-04, -1.9267e-01, -1.2808e+00,  2.1282e-01],\n",
      "        [-1.0861e+00,  6.9253e-01,  7.6114e-01, -5.0238e-01,  1.6814e-01]])\n"
     ]
    }
   ],
   "source": [
    "a = a.new_ones(6,5, dtype=torch.double)\n",
    "print(a)\n",
    "\n",
    "a = torch.randn_like(a, dtype=torch.float)\n",
    "print(a)"
   ]
  },
  {
   "cell_type": "code",
   "execution_count": 18,
   "metadata": {},
   "outputs": [
    {
     "name": "stdout",
     "output_type": "stream",
     "text": [
      "torch.Size([6, 5])\n"
     ]
    }
   ],
   "source": [
    "print(a.size())"
   ]
  },
  {
   "cell_type": "markdown",
   "metadata": {},
   "source": [
    "### operations"
   ]
  },
  {
   "cell_type": "code",
   "execution_count": 19,
   "metadata": {},
   "outputs": [
    {
     "name": "stdout",
     "output_type": "stream",
     "text": [
      "tensor([[ 0.5879,  1.4647, -2.7322,  0.5129,  1.4696],\n",
      "        [ 0.6483,  1.8267,  1.8839,  1.4250,  1.3133],\n",
      "        [-0.2600,  1.4131, -0.9048,  0.0234, -0.1545],\n",
      "        [ 0.2319,  0.2242,  0.9381,  0.3362,  0.7348],\n",
      "        [ 1.3719,  0.8333,  0.1070, -0.8632,  1.2125],\n",
      "        [-0.7316,  0.7192,  1.7209,  0.2004,  0.8254]])\n"
     ]
    }
   ],
   "source": [
    "b = torch.rand(6,5)\n",
    "print(a+b)"
   ]
  },
  {
   "cell_type": "code",
   "execution_count": 20,
   "metadata": {},
   "outputs": [
    {
     "name": "stdout",
     "output_type": "stream",
     "text": [
      "tensor([[ 0.5879,  1.4647, -2.7322,  0.5129,  1.4696],\n",
      "        [ 0.6483,  1.8267,  1.8839,  1.4250,  1.3133],\n",
      "        [-0.2600,  1.4131, -0.9048,  0.0234, -0.1545],\n",
      "        [ 0.2319,  0.2242,  0.9381,  0.3362,  0.7348],\n",
      "        [ 1.3719,  0.8333,  0.1070, -0.8632,  1.2125],\n",
      "        [-0.7316,  0.7192,  1.7209,  0.2004,  0.8254]])\n"
     ]
    }
   ],
   "source": [
    "print(torch.add(a,b))"
   ]
  },
  {
   "cell_type": "code",
   "execution_count": 24,
   "metadata": {},
   "outputs": [
    {
     "name": "stdout",
     "output_type": "stream",
     "text": [
      "tensor([[ 0.5879,  1.4647, -2.7322,  0.5129,  1.4696],\n",
      "        [ 0.6483,  1.8267,  1.8839,  1.4250,  1.3133],\n",
      "        [-0.2600,  1.4131, -0.9048,  0.0234, -0.1545],\n",
      "        [ 0.2319,  0.2242,  0.9381,  0.3362,  0.7348],\n",
      "        [ 1.3719,  0.8333,  0.1070, -0.8632,  1.2125],\n",
      "        [-0.7316,  0.7192,  1.7209,  0.2004,  0.8254]])\n"
     ]
    }
   ],
   "source": [
    "result = torch.empty(6,5)\n",
    "torch.add(a,b, out = result)\n",
    "print(result)"
   ]
  },
  {
   "cell_type": "code",
   "execution_count": 25,
   "metadata": {},
   "outputs": [
    {
     "name": "stdout",
     "output_type": "stream",
     "text": [
      "tensor([[ 0.5879,  1.4647, -2.7322,  0.5129,  1.4696],\n",
      "        [ 0.6483,  1.8267,  1.8839,  1.4250,  1.3133],\n",
      "        [-0.2600,  1.4131, -0.9048,  0.0234, -0.1545],\n",
      "        [ 0.2319,  0.2242,  0.9381,  0.3362,  0.7348],\n",
      "        [ 1.3719,  0.8333,  0.1070, -0.8632,  1.2125],\n",
      "        [-0.7316,  0.7192,  1.7209,  0.2004,  0.8254]])\n"
     ]
    }
   ],
   "source": [
    "# adds a to b\n",
    "b.add_(a)\n",
    "print(b)"
   ]
  },
  {
   "cell_type": "code",
   "execution_count": 26,
   "metadata": {},
   "outputs": [
    {
     "name": "stdout",
     "output_type": "stream",
     "text": [
      "tensor([[ 3.3438e-01,  5.8200e-01, -3.1531e+00,  3.1633e-01,  7.1546e-01],\n",
      "        [-2.3468e-01,  1.0025e+00,  1.3347e+00,  8.3717e-01,  4.8084e-01],\n",
      "        [-4.3578e-01,  9.5103e-01, -1.0260e+00, -2.3138e-01, -1.0096e+00],\n",
      "        [-3.5188e-01, -6.2308e-02,  6.1322e-01,  1.6235e-03,  6.6882e-01],\n",
      "        [ 4.3498e-01,  5.1204e-04, -1.9267e-01, -1.2808e+00,  2.1282e-01],\n",
      "        [-1.0861e+00,  6.9253e-01,  7.6114e-01, -5.0238e-01,  1.6814e-01]])\n",
      "tensor([[ 0.5879,  1.4647, -2.7322,  0.5129,  1.4696],\n",
      "        [ 0.6483,  1.8267,  1.8839,  1.4250,  1.3133],\n",
      "        [-0.2600,  1.4131, -0.9048,  0.0234, -0.1545],\n",
      "        [ 0.2319,  0.2242,  0.9381,  0.3362,  0.7348],\n",
      "        [ 1.3719,  0.8333,  0.1070, -0.8632,  1.2125],\n",
      "        [-0.7316,  0.7192,  1.7209,  0.2004,  0.8254]])\n"
     ]
    }
   ],
   "source": [
    "b.add(a)\n",
    "print(a)\n",
    "print(b)"
   ]
  },
  {
   "cell_type": "code",
   "execution_count": 27,
   "metadata": {},
   "outputs": [
    {
     "name": "stdout",
     "output_type": "stream",
     "text": [
      "tensor([-3.1531,  1.3347, -1.0260,  0.6132, -0.1927,  0.7611])\n"
     ]
    }
   ],
   "source": [
    "print(a[:,2])"
   ]
  },
  {
   "cell_type": "markdown",
   "metadata": {},
   "source": [
    "### tensor.view\n",
    "We can resize or reshape tensor, use tensor.view"
   ]
  },
  {
   "cell_type": "code",
   "execution_count": 28,
   "metadata": {},
   "outputs": [
    {
     "name": "stdout",
     "output_type": "stream",
     "text": [
      "torch.Size([3, 3]) torch.Size([9]) torch.Size([1, 9])\n"
     ]
    }
   ],
   "source": [
    "a = torch.randn(3,3)\n",
    "b = a.view(9)\n",
    "c =a.view(-1,9)\n",
    "print(a.size(), b.size(), c.size())"
   ]
  },
  {
   "cell_type": "markdown",
   "metadata": {},
   "source": [
    "### .item()"
   ]
  },
  {
   "cell_type": "code",
   "execution_count": 29,
   "metadata": {},
   "outputs": [
    {
     "name": "stdout",
     "output_type": "stream",
     "text": [
      "tensor([0.1494])\n",
      "0.14943161606788635\n"
     ]
    }
   ],
   "source": [
    "a = torch.randn(1)\n",
    "print(a)\n",
    "print(a.item())"
   ]
  },
  {
   "cell_type": "markdown",
   "metadata": {},
   "source": [
    "### NumPy Bridge"
   ]
  },
  {
   "cell_type": "markdown",
   "metadata": {},
   "source": [
    "#####  Converting a Torch tensor to NumPy"
   ]
  },
  {
   "cell_type": "code",
   "execution_count": 30,
   "metadata": {},
   "outputs": [
    {
     "name": "stdout",
     "output_type": "stream",
     "text": [
      "tensor([1., 1., 1., 1.])\n"
     ]
    }
   ],
   "source": [
    "x = torch.ones(4)\n",
    "print(x)"
   ]
  },
  {
   "cell_type": "code",
   "execution_count": 31,
   "metadata": {
    "scrolled": true
   },
   "outputs": [
    {
     "name": "stdout",
     "output_type": "stream",
     "text": [
      "[1. 1. 1. 1.]\n"
     ]
    }
   ],
   "source": [
    "y = x.numpy()\n",
    "print(y)"
   ]
  },
  {
   "cell_type": "markdown",
   "metadata": {},
   "source": [
    "##### Converting NumPy array to Torch tensor"
   ]
  },
  {
   "cell_type": "code",
   "execution_count": 33,
   "metadata": {},
   "outputs": [
    {
     "name": "stdout",
     "output_type": "stream",
     "text": [
      "[2. 2. 2. 2.]\n",
      "tensor([2., 2., 2., 2.], dtype=torch.float64)\n"
     ]
    }
   ],
   "source": [
    "import numpy as np\n",
    "f = np.ones(4)\n",
    "g = torch.from_numpy(f)\n",
    "\n",
    "np.add(f,1, out=f)\n",
    "print(f)\n",
    "print(g)"
   ]
  },
  {
   "cell_type": "code",
   "execution_count": null,
   "metadata": {},
   "outputs": [],
   "source": []
  }
 ],
 "metadata": {
  "kernelspec": {
   "display_name": "Python 3",
   "language": "python",
   "name": "python3"
  },
  "language_info": {
   "codemirror_mode": {
    "name": "ipython",
    "version": 3
   },
   "file_extension": ".py",
   "mimetype": "text/x-python",
   "name": "python",
   "nbconvert_exporter": "python",
   "pygments_lexer": "ipython3",
   "version": "3.7.4"
  }
 },
 "nbformat": 4,
 "nbformat_minor": 2
}
