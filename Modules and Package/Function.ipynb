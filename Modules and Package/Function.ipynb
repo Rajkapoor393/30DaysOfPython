{
 "cells": [
  {
   "cell_type": "code",
   "execution_count": 4,
   "metadata": {
    "collapsed": false
   },
   "outputs": [
    {
     "name": "stdout",
     "output_type": "stream",
     "text": [
      "The area is  200\n"
     ]
    }
   ],
   "source": [
    "# Function\n",
    "def area():\n",
    "    l = 20\n",
    "    b = 10\n",
    "    print(\"The area is \",l*b)\n",
    "area()"
   ]
  },
  {
   "cell_type": "code",
   "execution_count": 3,
   "metadata": {
    "collapsed": false
   },
   "outputs": [
    {
     "name": "stdout",
     "output_type": "stream",
     "text": [
      "Enter the value of l = 10\n",
      "Enter the value of b = 5\n",
      "Enter the value of h = 30\n",
      "The volume is  1500\n"
     ]
    }
   ],
   "source": [
    "def volume():\n",
    "    l= int(input(\"Enter the value of l = \"))\n",
    "    b= int(input(\"Enter the value of b = \"))\n",
    "    h= int(input(\"Enter the value of h = \"))\n",
    "    print(\"The volume is \",l*b*h)\n",
    "volume()"
   ]
  },
  {
   "cell_type": "code",
   "execution_count": 5,
   "metadata": {
    "collapsed": false
   },
   "outputs": [
    {
     "name": "stdout",
     "output_type": "stream",
     "text": [
      "Enter the value of l = 10\n",
      "Enter the value of b = 10\n",
      "The volume is  1000\n"
     ]
    }
   ],
   "source": [
    "h = 10\n",
    "def volume():\n",
    "    l= int(input(\"Enter the value of l = \"))\n",
    "    b= int(input(\"Enter the value of b = \"))\n",
    "    print(\"The volume is \",l*b*h)\n",
    "volume()"
   ]
  },
  {
   "cell_type": "code",
   "execution_count": 7,
   "metadata": {
    "collapsed": false
   },
   "outputs": [
    {
     "name": "stdout",
     "output_type": "stream",
     "text": [
      "1000\n"
     ]
    }
   ],
   "source": [
    "# Function with arguments\n",
    "l = 10\n",
    "b = 20\n",
    "h = 5\n",
    "def volume(x,y,z):\n",
    "    print(x*y*z)\n",
    "volume(l,b,h)"
   ]
  },
  {
   "cell_type": "code",
   "execution_count": 8,
   "metadata": {
    "collapsed": false
   },
   "outputs": [
    {
     "name": "stdout",
     "output_type": "stream",
     "text": [
      "Enter the value of l = 10\n",
      "Enter the value of b = 50\n",
      "Enter the value of h = 30\n",
      "The volume is  15000\n"
     ]
    }
   ],
   "source": [
    "def volume(l,b,h):\n",
    "    l= int(input(\"Enter the value of l = \"))\n",
    "    b= int(input(\"Enter the value of b = \"))\n",
    "    h= int(input(\"Enter the value of h = \"))\n",
    "    print(\"The volume is \",l*b*h)\n",
    "volume(l,b,h)"
   ]
  },
  {
   "cell_type": "code",
   "execution_count": 11,
   "metadata": {
    "collapsed": false
   },
   "outputs": [
    {
     "name": "stdout",
     "output_type": "stream",
     "text": [
      "Enter the first number c = 10\n",
      "Enter the first number d = 20\n",
      "Enter the operator o = j\n",
      "Invalid operator !!!\n",
      "Enter the first number c = 10\n",
      "Enter the first number d = 30\n",
      "Enter the operator o = -\n",
      "The required value is  20\n"
     ]
    }
   ],
   "source": [
    "def cal():\n",
    "    c = int(input(\"Enter the first number c = \"))\n",
    "    d = int(input(\"Enter the first number d = \"))\n",
    "    o = input(\"Enter the operator o = \")\n",
    "    if o ==\"+\":\n",
    "        print(c+d)\n",
    "    elif o ==\"-\":\n",
    "        if c>d:\n",
    "            print(\"The required value is \",c-d)\n",
    "        elif d>c:\n",
    "            print(\"The required value is \",d-c)\n",
    "        else:\n",
    "            print(\"Both are equal\",c)\n",
    "    elif o ==\"*\":\n",
    "        print(\"The required value is \",c*d)\n",
    "    elif o ==\"/\":\n",
    "        if c>d:\n",
    "            print(\"The required value is \",c/d)\n",
    "        elif d>c:\n",
    "            print(\"The required value is \",d/c)\n",
    "        else:\n",
    "            print(\"Both are equal \",d)\n",
    "    else:\n",
    "        print(\"Invalid operator !!!\")\n",
    "        cal()\n",
    "cal()"
   ]
  },
  {
   "cell_type": "code",
   "execution_count": 25,
   "metadata": {
    "collapsed": false
   },
   "outputs": [
    {
     "name": "stdout",
     "output_type": "stream",
     "text": [
      "Enter the value of l 10\n",
      "Enter the value of b2\n",
      "20\n"
     ]
    }
   ],
   "source": [
    "l= int(input(\"Enter the value of l \"))\n",
    "b=int(input(\"Enter the value of b \"))\n",
    "def area(x,y):\n",
    "    print(x*y)\n",
    "area(l,b)"
   ]
  },
  {
   "cell_type": "code",
   "execution_count": 31,
   "metadata": {
    "collapsed": false
   },
   "outputs": [
    {
     "name": "stdout",
     "output_type": "stream",
     "text": [
      "Raj Kapoor\n",
      "Rajan Kapoor\n",
      "Raushan Kapoor\n"
     ]
    }
   ],
   "source": [
    "# Argument\n",
    "\n",
    "def family(fname):\n",
    "    print(fname + \" Kapoor\")\n",
    "family(\"Raj\")\n",
    "family(\"Rajan\")\n",
    "family(\"Raushan\")"
   ]
  },
  {
   "cell_type": "code",
   "execution_count": 40,
   "metadata": {
    "collapsed": false
   },
   "outputs": [
    {
     "name": "stdout",
     "output_type": "stream",
     "text": [
      "The youngest child is Rajan\n"
     ]
    }
   ],
   "source": [
    "# Arbitrary Arguments, *args\n",
    "def family(*kids):\n",
    "    print(\"The youngest child is \" + kids[0])\n",
    "\n",
    "family(\"Rajan\", \"Raj\", \"Raushan\")"
   ]
  },
  {
   "cell_type": "code",
   "execution_count": 32,
   "metadata": {
    "collapsed": false
   },
   "outputs": [
    {
     "name": "stdout",
     "output_type": "stream",
     "text": [
      "20\n"
     ]
    }
   ],
   "source": [
    "# Return Values\n",
    "def area(l,b):\n",
    "    return l*b\n",
    "print(area(5,4))"
   ]
  },
  {
   "cell_type": "code",
   "execution_count": 56,
   "metadata": {
    "collapsed": false
   },
   "outputs": [
    {
     "name": "stdout",
     "output_type": "stream",
     "text": [
      "Enter the value of c 15\n",
      "Enter the value of d 5\n",
      "Enter the operator +\n",
      "20\n"
     ]
    }
   ],
   "source": [
    "def add(l,b):\n",
    "    return l+b\n",
    "add(l,b)\n",
    "def sub(l,b):\n",
    "    return l-b\n",
    "sub(l,b)\n",
    "def mul(l,b):\n",
    "    return l*b\n",
    "mul(l,b)\n",
    "def div(l,b):\n",
    "    return l/b\n",
    "div(l,b)\n",
    "def cal():\n",
    "    l=int(input(\"Enter the value of c \"))\n",
    "    b=int(input(\"Enter the value of d \"))\n",
    "    o = input(\"Enter the operator \")\n",
    "    if o==\"+\":\n",
    "        return add(l,b)\n",
    "    elif o ==\"-\":\n",
    "        return sub(l,b)\n",
    "    elif o == \"*\":\n",
    "        return mul(l,b)\n",
    "    elif o == \"/\":\n",
    "        return div(l,b)\n",
    "    else :\n",
    "        print(\"Invalid operaton ! \")\n",
    "        cal()\n",
    "\n",
    "print(cal())"
   ]
  },
  {
   "cell_type": "code",
   "execution_count": 59,
   "metadata": {
    "collapsed": false
   },
   "outputs": [
    {
     "name": "stdout",
     "output_type": "stream",
     "text": [
      "3.141592653589793\n",
      "1.0\n"
     ]
    }
   ],
   "source": [
    "import math as m\n",
    "print(m.pi)\n",
    "print(m.sin(m.pi/2))"
   ]
  }
 ],
 "metadata": {
  "kernelspec": {
   "display_name": "Python 3",
   "language": "python",
   "name": "python3"
  },
  "language_info": {
   "codemirror_mode": {
    "name": "ipython",
    "version": 3
   },
   "file_extension": ".py",
   "mimetype": "text/x-python",
   "name": "python",
   "nbconvert_exporter": "python",
   "pygments_lexer": "ipython3",
   "version": "3.6.0"
  }
 },
 "nbformat": 4,
 "nbformat_minor": 2
}
