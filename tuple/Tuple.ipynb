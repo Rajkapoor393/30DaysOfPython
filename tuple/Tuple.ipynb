{
 "cells": [
  {
   "cell_type": "markdown",
   "metadata": {},
   "source": [
    "# Tuple\n",
    "## info\n",
    "## remove (cannot perform directly)\n",
    "## tuple inside tuple\n",
    "## concatination (Tuple inside tuple)\n",
    "## tuple inside list\n",
    "## list inside tuple\n"
   ]
  },
  {
   "cell_type": "markdown",
   "metadata": {},
   "source": [
    "# tuple concatination\n"
   ]
  },
  {
   "cell_type": "code",
   "execution_count": 5,
   "metadata": {
    "collapsed": false
   },
   "outputs": [
    {
     "data": {
      "text/plain": [
       "(1, 2, 3, 4, 5, 6, 7, 8, 9, 10)"
      ]
     },
     "execution_count": 5,
     "metadata": {},
     "output_type": "execute_result"
    }
   ],
   "source": [
    "a =(1,2,3,4,5,6)\n",
    "b = (7,8,9,10)\n",
    "a+b\n"
   ]
  },
  {
   "cell_type": "markdown",
   "metadata": {},
   "source": [
    "# remove, delete, replace cannot be performed directly"
   ]
  },
  {
   "cell_type": "code",
   "execution_count": 6,
   "metadata": {
    "collapsed": false
   },
   "outputs": [
    {
     "name": "stdout",
     "output_type": "stream",
     "text": [
      "['Ball', 'cat', 'Dog', 'Elephant']\n",
      "('Ball', 'cat', 'Dog', 'Elephant')\n"
     ]
    }
   ],
   "source": [
    "a = (\"Apple\",\"Ball\",\"cat\",\"Dog\",\"Elephant\")\n",
    "a= list(a)\n",
    "del a[0]\n",
    "print(a)\n",
    "a = tuple(a)\n",
    "print(a)"
   ]
  },
  {
   "cell_type": "markdown",
   "metadata": {},
   "source": [
    "# tuple inside tuple"
   ]
  },
  {
   "cell_type": "code",
   "execution_count": 7,
   "metadata": {
    "collapsed": false
   },
   "outputs": [
    {
     "name": "stdout",
     "output_type": "stream",
     "text": [
      "(1, 2, 3)\n"
     ]
    }
   ],
   "source": [
    "a = ((1,2,3),(4,5,6,),(7,8,9))\n",
    "a = list(a)\n",
    "print(a[0])"
   ]
  },
  {
   "cell_type": "markdown",
   "metadata": {},
   "source": [
    "# Tuple to list conversion"
   ]
  },
  {
   "cell_type": "code",
   "execution_count": 8,
   "metadata": {
    "collapsed": false
   },
   "outputs": [
    {
     "name": "stdout",
     "output_type": "stream",
     "text": [
      "[[1, 2, 3]]\n",
      "[[1, 2, 3], [4, 5, 6]]\n",
      "[[1, 2, 3], [4, 5, 6], [7, 8, 9]]\n"
     ]
    }
   ],
   "source": [
    "b=[]\n",
    "a = ((1,2,3),(4,5,6,),(7,8,9))\n",
    "a = list(a)\n",
    "for i in range(3):\n",
    "    b.append(list(a[i]))\n",
    "    print(b)"
   ]
  },
  {
   "cell_type": "markdown",
   "metadata": {},
   "source": [
    "# list to tuple conversion"
   ]
  },
  {
   "cell_type": "code",
   "execution_count": 9,
   "metadata": {
    "collapsed": false
   },
   "outputs": [
    {
     "name": "stdout",
     "output_type": "stream",
     "text": [
      "((1, 2, 3),)\n",
      "((1, 2, 3), (4, 5, 6))\n",
      "((1, 2, 3), (4, 5, 6), (7, 8, 9))\n"
     ]
    }
   ],
   "source": [
    "b=()\n",
    "a = [[1,2,3,],[4,5,6],[7,8,9]]\n",
    "a = tuple(a)\n",
    "for i in range(3):\n",
    "    b = b+(tuple(a[i]),)\n",
    "    print(b)"
   ]
  },
  {
   "cell_type": "markdown",
   "metadata": {
    "collapsed": true
   },
   "source": [
    "# tuple inside list"
   ]
  },
  {
   "cell_type": "code",
   "execution_count": 13,
   "metadata": {
    "collapsed": false
   },
   "outputs": [
    {
     "name": "stdout",
     "output_type": "stream",
     "text": [
      "Enter the range = 2\n",
      "Enter the name = Raj\n",
      "Enter the address = birganj\n",
      "Enter the contact number = 98071\n",
      "Enter the name = kapoor\n",
      "Enter the address = kathmandu\n",
      "Enter the contact number = 65393\n",
      "[('Raj', 'birganj', '98071'), ('kapoor', 'kathmandu', '65393')]\n"
     ]
    }
   ],
   "source": [
    "info = []\n",
    "n = int(input(\"Enter the range = \"))\n",
    "for i in range(n):\n",
    "    name = input(\"Enter the name = \")\n",
    "    Add = input(\"Enter the address = \")\n",
    "    num = input('Enter the contact number = ')\n",
    "    x = (name,Add,num)\n",
    "    info.append(tuple(x),)\n",
    "print(info)"
   ]
  },
  {
   "cell_type": "markdown",
   "metadata": {},
   "source": [
    "# list inside tuple"
   ]
  },
  {
   "cell_type": "code",
   "execution_count": 2,
   "metadata": {
    "collapsed": false
   },
   "outputs": [
    {
     "name": "stdout",
     "output_type": "stream",
     "text": [
      "Enter the range = 2\n",
      "Enter the name = kapoor\n",
      "Enter the address = kathmandu\n",
      "Enter the contact number = 65393\n",
      "Enter the name = raj\n",
      "Enter the address = birganj\n",
      "Enter the contact number = 98071\n",
      "(['kapoor', 'kathmandu', '65393'], ['raj', 'birganj', '98071'])\n"
     ]
    }
   ],
   "source": [
    "info = ()\n",
    "n = int(input(\"Enter the range = \"))\n",
    "for i in range(n):\n",
    "    name = input(\"Enter the name = \")\n",
    "    Add = input(\"Enter the address = \")\n",
    "    num = input('Enter the contact number = ')\n",
    "    x = [name,Add,num]\n",
    "    info = info + tuple([x])\n",
    "print(info)"
   ]
  },
  {
   "cell_type": "markdown",
   "metadata": {},
   "source": []
  }
 ],
 "metadata": {
  "kernelspec": {
   "display_name": "Python 3",
   "language": "python",
   "name": "python3"
  },
  "language_info": {
   "codemirror_mode": {
    "name": "ipython",
    "version": 3
   },
   "file_extension": ".py",
   "mimetype": "text/x-python",
   "name": "python",
   "nbconvert_exporter": "python",
   "pygments_lexer": "ipython3",
   "version": "3.6.0"
  }
 },
 "nbformat": 4,
 "nbformat_minor": 2
}
