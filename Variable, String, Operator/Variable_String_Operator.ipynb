{
 "cells": [
  {
   "cell_type": "code",
   "execution_count": 2,
   "metadata": {
    "collapsed": false
   },
   "outputs": [
    {
     "name": "stdout",
     "output_type": "stream",
     "text": [
      "5\n",
      "10\n",
      "15\n"
     ]
    }
   ],
   "source": [
    "# Variable\n",
    "a = 5\n",
    "b=10\n",
    "print(a)\n",
    "print(b)\n",
    "print(a+b)"
   ]
  },
  {
   "cell_type": "code",
   "execution_count": 4,
   "metadata": {
    "collapsed": false
   },
   "outputs": [
    {
     "name": "stdout",
     "output_type": "stream",
     "text": [
      "Enter the first number c = 10\n",
      "Enter the first number d = 20\n",
      "Sum of c and d is  30\n"
     ]
    }
   ],
   "source": [
    "# Sum of Two Number\n",
    "c = int(input(\"Enter the first number c = \"))\n",
    "d = int(input(\"Enter the first number d = \"))\n",
    "print(\"Sum of c and d is \", c+d)"
   ]
  },
  {
   "cell_type": "code",
   "execution_count": 23,
   "metadata": {
    "collapsed": false
   },
   "outputs": [
    {
     "name": "stdout",
     "output_type": "stream",
     "text": [
      "This is day 1 of 30 days pyhton challange. See you soon! \n",
      "T\n",
      "Thi\n",
      "Tssa\n"
     ]
    }
   ],
   "source": [
    "# String\n",
    "e = \"This is day 1 of 30 days pyhton challange. \"\n",
    "f = \"See you soon! \"\n",
    "print(e+f)\n",
    "\n",
    "print(e[0])\n",
    "print(e[:3]) # print from 0 to 3\n",
    "print(e[:12:3]) # print in multiple of 3"
   ]
  },
  {
   "cell_type": "code",
   "execution_count": 26,
   "metadata": {
    "collapsed": false
   },
   "outputs": [
    {
     "name": "stdout",
     "output_type": "stream",
     "text": [
      "This is not my first python code ! \n",
      "This is not my first python code ! This is not my first python code ! \n",
      "This is not my first python code ! This is not my first python code ! This is not my first python code ! This is not my first python code ! \n"
     ]
    }
   ],
   "source": [
    "# string Multiplication\n",
    "z = \"This is not my first python code ! \"\n",
    "print(z)\n",
    "print(2*z)\n",
    "print(4*z)"
   ]
  },
  {
   "cell_type": "code",
   "execution_count": 15,
   "metadata": {
    "collapsed": false
   },
   "outputs": [
    {
     "name": "stdout",
     "output_type": "stream",
     "text": [
      "Enter the first number c = 20\n",
      "Enter the first number d = 10\n",
      "Enter the operator o = /\n",
      "The required value is  2.0\n"
     ]
    }
   ],
   "source": [
    "# Operator\n",
    "# +, - ,* ,/, **, //\n",
    "c = int(input(\"Enter the first number c = \"))\n",
    "d = int(input(\"Enter the first number d = \"))\n",
    "o = input(\"Enter the operator o = \")\n",
    "if o ==\"+\":\n",
    "    print(c+d)\n",
    "elif o ==\"-\":\n",
    "    if c>d:\n",
    "        print(\"The required value is \",c-d)\n",
    "    elif d>c:\n",
    "        print(\"The required value is \",d-c)\n",
    "    else:\n",
    "        print(\"Both are equal\",c)\n",
    "elif o ==\"*\":\n",
    "    print(\"The required value is \",c*d)\n",
    "elif o ==\"/\":\n",
    "    if c>d:\n",
    "        print(\"The required value is \",c/d)\n",
    "    elif d>c:\n",
    "        print(\"The required value is \",d/c)\n",
    "    else:\n",
    "        print(\"Both are equal \",d)\n",
    "else:\n",
    "    print(\"Invalid operator !!!\")"
   ]
  },
  {
   "cell_type": "code",
   "execution_count": 18,
   "metadata": {
    "collapsed": false
   },
   "outputs": [
    {
     "name": "stdout",
     "output_type": "stream",
     "text": [
      "20\n",
      "100\n",
      "3.3333333333333335\n",
      "3\n"
     ]
    }
   ],
   "source": [
    "x = 10\n",
    "y = 3\n",
    "print(x*2)\n",
    "print(x**2)\n",
    "print(x/y)\n",
    "print(x//y)"
   ]
  }
 ],
 "metadata": {
  "kernelspec": {
   "display_name": "Python 3",
   "language": "python",
   "name": "python3"
  },
  "language_info": {
   "codemirror_mode": {
    "name": "ipython",
    "version": 3
   },
   "file_extension": ".py",
   "mimetype": "text/x-python",
   "name": "python",
   "nbconvert_exporter": "python",
   "pygments_lexer": "ipython3",
   "version": "3.6.0"
  }
 },
 "nbformat": 4,
 "nbformat_minor": 2
}
