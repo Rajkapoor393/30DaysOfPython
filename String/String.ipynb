{
 "cells": [
  {
   "cell_type": "code",
   "execution_count": null,
   "metadata": {
    "collapsed": true
   },
   "outputs": [],
   "source": [
    "# concatination\n",
    "# string formating\n",
    "# split\n",
    "# search & count\n",
    "# case sensitive\n",
    "#  remove and replace\n",
    "# "
   ]
  },
  {
   "cell_type": "code",
   "execution_count": null,
   "metadata": {
    "collapsed": true
   },
   "outputs": [],
   "source": [
    "info = \"ram shyam geeta hari anmol aman\"\n",
    "name = input(\"Enter the name for search = \").upper\n",
    "replace = input(\" Enter the value for repalce = \").upper\n",
    "if name in info:\n",
    "    print(\"yes\", info.count.upper)\n",
    "    x = input(\"enter 'y'for replace = \")\n",
    "    if x =='y':\n",
    "        info = info.replace(name, replace)\n",
    "else:\n",
    "    print(\"no\")\n",
    "info"
   ]
  },
  {
   "cell_type": "code",
   "execution_count": 1,
   "metadata": {
    "collapsed": false
   },
   "outputs": [
    {
     "data": {
      "text/plain": [
       "str"
      ]
     },
     "execution_count": 1,
     "metadata": {},
     "output_type": "execute_result"
    }
   ],
   "source": [
    "a = \"Visit Nepal 2020\"\n",
    "type(a)"
   ]
  },
  {
   "cell_type": "code",
   "execution_count": 3,
   "metadata": {
    "collapsed": false
   },
   "outputs": [
    {
     "data": {
      "text/plain": [
       "'Visit Nepal 2020'"
      ]
     },
     "execution_count": 3,
     "metadata": {},
     "output_type": "execute_result"
    }
   ],
   "source": [
    "a = \"Visit Nepal\"\n",
    "b = \" 2020\"\n",
    "a+b"
   ]
  },
  {
   "cell_type": "code",
   "execution_count": 7,
   "metadata": {
    "collapsed": false
   },
   "outputs": [
    {
     "name": "stdout",
     "output_type": "stream",
     "text": [
      "Visit Nepal Visit Nepal Visit Nepal Visit Nepal \n",
      "Visi\n"
     ]
    }
   ],
   "source": [
    "a = \"Visit Nepal \"\n",
    "a[0]\n",
    "print(a*4)\n",
    "print(a[0:4])"
   ]
  },
  {
   "cell_type": "code",
   "execution_count": 14,
   "metadata": {
    "collapsed": false
   },
   "outputs": [
    {
     "name": "stdout",
     "output_type": "stream",
     "text": [
      "Enter name = Raj Kapoor \n",
      "Enter the age =  21 \n",
      "Enter the address Birganj\n",
      "Raj Kapoor 21 Birganj\n"
     ]
    }
   ],
   "source": [
    "name = input(\"Enter name = \")\n",
    "age = int(input(\"Enter the age = \"))\n",
    "address = input(\"Enter the address\")\n",
    "info = name +  str(age)  + address\n",
    "print(info)"
   ]
  },
  {
   "cell_type": "code",
   "execution_count": 15,
   "metadata": {
    "collapsed": false
   },
   "outputs": [
    {
     "name": "stdout",
     "output_type": "stream",
     "text": [
      "Enter name = Raj Kapoor \n",
      "Enter the age = 21\n",
      "Enter the address Birganj\n",
      "Raj Kapoor  21  Birganj\n"
     ]
    }
   ],
   "source": [
    "name = input(\"Enter name = \")\n",
    "age = int(input(\"Enter the age = \"))\n",
    "address = input(\"Enter the address\")\n",
    "info = f\"{name} {age} {address}\"\n",
    "print(info)"
   ]
  },
  {
   "cell_type": "code",
   "execution_count": 16,
   "metadata": {
    "collapsed": false
   },
   "outputs": [
    {
     "data": {
      "text/plain": [
       "['Raj', 'Kapoor', '21', 'Birganj']"
      ]
     },
     "execution_count": 16,
     "metadata": {},
     "output_type": "execute_result"
    }
   ],
   "source": [
    "info.split()"
   ]
  },
  {
   "cell_type": "code",
   "execution_count": 18,
   "metadata": {
    "collapsed": false
   },
   "outputs": [
    {
     "data": {
      "text/plain": [
       "2"
      ]
     },
     "execution_count": 18,
     "metadata": {},
     "output_type": "execute_result"
    }
   ],
   "source": [
    "info = \"RajKapoor.21\"\n",
    "info.split(\".\")\n",
    "len(info.split(\".\"))"
   ]
  },
  {
   "cell_type": "code",
   "execution_count": 19,
   "metadata": {
    "collapsed": false
   },
   "outputs": [
    {
     "name": "stdout",
     "output_type": "stream",
     "text": [
      "Enter the name for search = Ram\n",
      "Yes  1\n"
     ]
    }
   ],
   "source": [
    "# Search and count\n",
    "info = \"Ram Shyam Hari Om Sita Anand Gita\"\n",
    "name = input(\"Enter the name for search = \")\n",
    "if name in info:\n",
    "    print(\"Yes \", info.count(name))\n",
    "else:\n",
    "    print(\"No\")"
   ]
  },
  {
   "cell_type": "code",
   "execution_count": 22,
   "metadata": {
    "collapsed": false
   },
   "outputs": [
    {
     "name": "stdout",
     "output_type": "stream",
     "text": [
      "APPLE\n",
      "apple\n"
     ]
    }
   ],
   "source": [
    "# upper()\n",
    "# lower()\n",
    "a = \"Apple\"\n",
    "print(a.upper())\n",
    "print(a.lower())"
   ]
  },
  {
   "cell_type": "code",
   "execution_count": 25,
   "metadata": {
    "collapsed": false
   },
   "outputs": [
    {
     "name": "stdout",
     "output_type": "stream",
     "text": [
      "Enter the name for search = ram\n",
      "Yes  1\n"
     ]
    }
   ],
   "source": [
    "info = \"Ram Shyam Hari Om Sita Anand Gita\".upper()\n",
    "name = input(\"Enter the name for search = \").upper()\n",
    "if name in info:\n",
    "    print(\"Yes \", info.count(name))\n",
    "else:\n",
    "    print(\"No\")"
   ]
  },
  {
   "cell_type": "code",
   "execution_count": 26,
   "metadata": {
    "collapsed": false
   },
   "outputs": [
    {
     "data": {
      "text/plain": [
       "'Hero Shyam Hari Gita'"
      ]
     },
     "execution_count": 26,
     "metadata": {},
     "output_type": "execute_result"
    }
   ],
   "source": [
    "x = \"Ram Shyam Hari Gita\"\n",
    "x.replace(\"Ram\",\"Hero\")"
   ]
  },
  {
   "cell_type": "code",
   "execution_count": 27,
   "metadata": {
    "collapsed": false
   },
   "outputs": [
    {
     "name": "stdout",
     "output_type": "stream",
     "text": [
      "Enter name for search = ram\n",
      "Enter any value for replace = hero\n",
      "Yes 2\n",
      "Enter 'y' for replace = y\n",
      "hero SHYAM HARI GITA hero\n"
     ]
    }
   ],
   "source": [
    "info = \"Ram Shyam Hari Gita ram\".upper()\n",
    "name = input(\"Enter name for search = \").upper()\n",
    "replace = input(\"Enter any value for replace = \")\n",
    "if name in info:\n",
    "    print(\"Yes\",info.count(name))\n",
    "    x = input(\"Enter 'y' for replace = \")\n",
    "    if x =='y':\n",
    "        info = info.replace(name,replace)\n",
    "else:\n",
    "    print(\"No\")\n",
    "print(info)"
   ]
  },
  {
   "cell_type": "code",
   "execution_count": 28,
   "metadata": {
    "collapsed": false
   },
   "outputs": [
    {
     "name": "stdout",
     "output_type": "stream",
     "text": [
      "Enter the value of n = 2\n",
      "Enter name = ram\n",
      "Enter age = 22\n",
      "Enter add = palpa\n",
      "Enter name = shyam\n",
      "Enter age = 22\n",
      "Enter add = butwal\n",
      "['ram 22 palpa', 'shyam 22 butwal', '']\n"
     ]
    }
   ],
   "source": [
    "info1 = \"\"\n",
    "n = int(input(\"Enter the value of n = \"))\n",
    "for i in range(n):\n",
    "    name = input(\"Enter name = \")\n",
    "    age = input(\"Enter age = \")\n",
    "    add = input(\"Enter add = \")\n",
    "    info = f\"{name} {age} {add}.\"\n",
    "    info1 = info1+info\n",
    "x = info1.split('.')\n",
    "print(x)"
   ]
  },
  {
   "cell_type": "code",
   "execution_count": 29,
   "metadata": {
    "collapsed": false
   },
   "outputs": [
    {
     "data": {
      "text/plain": [
       "['ram', '22', 'palpa']"
      ]
     },
     "execution_count": 29,
     "metadata": {},
     "output_type": "execute_result"
    }
   ],
   "source": [
    "x[0].split()"
   ]
  },
  {
   "cell_type": "code",
   "execution_count": null,
   "metadata": {
    "collapsed": true
   },
   "outputs": [],
   "source": []
  }
 ],
 "metadata": {
  "kernelspec": {
   "display_name": "Python 3",
   "language": "python",
   "name": "python3"
  },
  "language_info": {
   "codemirror_mode": {
    "name": "ipython",
    "version": 3
   },
   "file_extension": ".py",
   "mimetype": "text/x-python",
   "name": "python",
   "nbconvert_exporter": "python",
   "pygments_lexer": "ipython3",
   "version": "3.6.0"
  }
 },
 "nbformat": 4,
 "nbformat_minor": 2
}
