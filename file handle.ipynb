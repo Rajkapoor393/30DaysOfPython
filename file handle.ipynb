{
 "cells": [
  {
   "cell_type": "markdown",
   "metadata": {},
   "source": [
    "# Read write create append"
   ]
  },
  {
   "cell_type": "code",
   "execution_count": 6,
   "metadata": {
    "collapsed": true
   },
   "outputs": [],
   "source": [
    "# Read\n",
    "a = open(\"file.csv\",\"r\")\n",
    "a.close()\n",
    "\n",
    "# Write\n",
    "a = open('file.csv','w')\n",
    "a.close()\n",
    "\n",
    "# create\n",
    "a = open('file1.txt','x')\n",
    "a.close()\n",
    "\n",
    "# append\n",
    "a = open('file.csv', 'a')\n",
    "a.close()"
   ]
  },
  {
   "cell_type": "code",
   "execution_count": 7,
   "metadata": {
    "collapsed": false
   },
   "outputs": [
    {
     "name": "stdout",
     "output_type": "stream",
     "text": [
      "this is my first file\n",
      "this is my first file\n",
      "this is my first file\n",
      "this is my first file\n",
      "this is my first file\n",
      "this is my first file\n",
      "this is my first file\n",
      "this is my first file\n",
      "this is my first file\n",
      "this is my first file\n",
      "this is my first file\n",
      "this is my first file\n"
     ]
    }
   ],
   "source": [
    "a =open('file1.txt','r')\n",
    "print(a.read())\n",
    "a.close()"
   ]
  },
  {
   "cell_type": "markdown",
   "metadata": {
    "collapsed": true
   },
   "source": [
    "# appending using loop"
   ]
  },
  {
   "cell_type": "code",
   "execution_count": 9,
   "metadata": {
    "collapsed": false
   },
   "outputs": [
    {
     "name": "stdout",
     "output_type": "stream",
     "text": [
      "Enter the value of n = 1\n",
      "Enter the name = Raj Kapoor\n",
      "Enter the school name = St.Xaviers\n",
      "Enter the address = Birganj\n",
      "Enter the age = 21\n"
     ]
    }
   ],
   "source": [
    "a = open('file1.txt','a')\n",
    "n = int(input('Enter the value of n = '))\n",
    "for i in range(n):\n",
    "    name = input('Enter the name = ')\n",
    "    school = input('Enter the school name = ')\n",
    "    add = input('Enter the address = ')\n",
    "    age = int(input('Enter the age = '))\n",
    "    a.write(f\"Name = {name} School = {school} Add = {add} Age = {age} \\n\")\n",
    "a.close()"
   ]
  },
  {
   "cell_type": "markdown",
   "metadata": {},
   "source": [
    "# Split"
   ]
  },
  {
   "cell_type": "code",
   "execution_count": 20,
   "metadata": {
    "collapsed": false
   },
   "outputs": [
    {
     "name": "stdout",
     "output_type": "stream",
     "text": [
      "Name = Raj School = St.xaviers Add = birganj Age = 32 \n",
      "Name = raj School = fjsakjfd Add = sdf Age = 3 \n",
      "Name = Raj Kapoor School = St.Xaviers Add = Birganj Age = 21 \n",
      "\n",
      "['Name = Raj School = St.xaviers Add = birganj Age = 32 ', 'Name = raj School = fjsakjfd Add = sdf Age = 3 ', 'Name = Raj Kapoor School = St.Xaviers Add = Birganj Age = 21 ', '']\n"
     ]
    }
   ],
   "source": [
    "b = open('file1.txt','r')\n",
    "c = b.read()\n",
    "print(c)\n",
    "\n",
    "d = c.split('\\n')\n",
    "print(d)\n"
   ]
  },
  {
   "cell_type": "markdown",
   "metadata": {},
   "source": [
    "# Split using loop"
   ]
  },
  {
   "cell_type": "code",
   "execution_count": 22,
   "metadata": {
    "collapsed": false
   },
   "outputs": [
    {
     "data": {
      "text/plain": [
       "[['Name',\n",
       "  '=',\n",
       "  'Raj',\n",
       "  'School',\n",
       "  '=',\n",
       "  'St.xaviers',\n",
       "  'Add',\n",
       "  '=',\n",
       "  'birganj',\n",
       "  'Age',\n",
       "  '=',\n",
       "  '32'],\n",
       " ['Name',\n",
       "  '=',\n",
       "  'raj',\n",
       "  'School',\n",
       "  '=',\n",
       "  'fjsakjfd',\n",
       "  'Add',\n",
       "  '=',\n",
       "  'sdf',\n",
       "  'Age',\n",
       "  '=',\n",
       "  '3'],\n",
       " ['Name',\n",
       "  '=',\n",
       "  'Raj',\n",
       "  'Kapoor',\n",
       "  'School',\n",
       "  '=',\n",
       "  'St.Xaviers',\n",
       "  'Add',\n",
       "  '=',\n",
       "  'Birganj',\n",
       "  'Age',\n",
       "  '=',\n",
       "  '21'],\n",
       " []]"
      ]
     },
     "execution_count": 22,
     "metadata": {},
     "output_type": "execute_result"
    }
   ],
   "source": [
    "e = []\n",
    "for i in range(len(d)):\n",
    "    e.append(d[i].split())\n",
    "e"
   ]
  },
  {
   "cell_type": "code",
   "execution_count": 23,
   "metadata": {
    "collapsed": false
   },
   "outputs": [
    {
     "name": "stdout",
     "output_type": "stream",
     "text": [
      "Enter the no of students = 1\n",
      "Enter name = 1\n",
      "Enter the marks in physics = 23\n",
      "Enter the marks in chemistry = 34\n",
      "Enter the marks in math = 54\n",
      "Enter the marks in english = 32\n",
      "Enter the marks in nepali = 45\n"
     ]
    }
   ],
   "source": [
    "b = open('class130.csv','w')\n",
    "b.write(\"Name,Physics,Chemistry,Math,English,Nepali\\n\")\n",
    "\n",
    "n = int(input(\"Enter the no of students = \"))\n",
    "for i in range(n):\n",
    "    name = input(\"Enter name = \")\n",
    "    physics = int(input(\"Enter the marks in physics = \"))\n",
    "    chemistry = int(input(\"Enter the marks in chemistry = \"))\n",
    "    math = int(input(\"Enter the marks in math = \"))\n",
    "    english = int(input(\"Enter the marks in english = \"))\n",
    "    nepali = int(input(\"Enter the marks in nepali = \"))\n",
    "    b.write(f\"{name},{physics},{chemistry},{math},{english},{nepali}\\n\")\n",
    "b.close()"
   ]
  },
  {
   "cell_type": "markdown",
   "metadata": {},
   "source": [
    "# shutil"
   ]
  },
  {
   "cell_type": "code",
   "execution_count": null,
   "metadata": {
    "collapsed": true
   },
   "outputs": [],
   "source": [
    "import shutil as s\n",
    "src = \"file.csv\"\n",
    "dest = 'test/'\n",
    "s.copy(src,dest)"
   ]
  },
  {
   "cell_type": "markdown",
   "metadata": {},
   "source": [
    "# create csv fie"
   ]
  },
  {
   "cell_type": "code",
   "execution_count": 24,
   "metadata": {
    "collapsed": true
   },
   "outputs": [],
   "source": [
    "x = open(\"testcsv.csv\", 'w')\n",
    "x.close()"
   ]
  },
  {
   "cell_type": "markdown",
   "metadata": {},
   "source": [
    "# Delete"
   ]
  },
  {
   "cell_type": "code",
   "execution_count": 25,
   "metadata": {
    "collapsed": false
   },
   "outputs": [
    {
     "name": "stdout",
     "output_type": "stream",
     "text": [
      "The file does not exist\n"
     ]
    }
   ],
   "source": [
    "# import os\n",
    "# os.remove(\"demofile.txt\")\n",
    "\n",
    "import os\n",
    "if os.path.exists(\"demofile.txt\"):\n",
    "    os.remove(\"demofile.txt\")\n",
    "else:\n",
    "    print(\"The file does not exist\")"
   ]
  },
  {
   "cell_type": "code",
   "execution_count": null,
   "metadata": {
    "collapsed": true
   },
   "outputs": [],
   "source": []
  }
 ],
 "metadata": {
  "kernelspec": {
   "display_name": "Python 3",
   "language": "python",
   "name": "python3"
  },
  "language_info": {
   "codemirror_mode": {
    "name": "ipython",
    "version": 3
   },
   "file_extension": ".py",
   "mimetype": "text/x-python",
   "name": "python",
   "nbconvert_exporter": "python",
   "pygments_lexer": "ipython3",
   "version": "3.6.0"
  }
 },
 "nbformat": 4,
 "nbformat_minor": 2
}
